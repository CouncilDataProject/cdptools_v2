{
 "cells": [
  {
   "cell_type": "markdown",
   "metadata": {},
   "source": [
    "# Working with CDP Transcripts\n",
    "\n",
    "Methods for retrieving open access data.\n",
    "\n",
    "A database schema diagram for production instances of CDP may be found [here](https://github.com/CouncilDataProject/cdptools/blob/master/docs/resources/database_diagram.pdf)."
   ]
  },
  {
   "cell_type": "markdown",
   "metadata": {},
   "source": [
    "# Connecting to resources\n",
    "\n",
    "Having access to both the CDP instance's database and file store with make accessing and using the transcripts easiest.\n",
    "\n",
    "For details on database usage, refer to the notebook example on database basics [here](./database.ipynb).\n",
    "\n",
    "For details on file store usage, refer to the notebook example on file store basics [here](./file_store.ipynb).\n",
    "\n",
    "**Note:** This notebook connects to the staging instance of Seattle's Firestore database and file store. To use production data, connect to the Cloud Firestore instance: `cdp-seattle`. To use production files, connect to the GCS instance: `cdp-seattle.appspot.com`."
   ]
  },
  {
   "cell_type": "code",
   "execution_count": 2,
   "metadata": {},
   "outputs": [
    {
     "data": {
      "text/plain": [
       "(<CloudFirestoreDatabase [stg-cdp-seattle]>,\n",
       " <GCSFileStore [stg-cdp-seattle.appspot.com]>)"
      ]
     },
     "execution_count": 2,
     "metadata": {},
     "output_type": "execute_result"
    }
   ],
   "source": [
    "from cdptools.databases.cloud_firestore_database import CloudFirestoreDatabase\n",
    "from cdptools.file_stores.gcs_file_store import GCSFileStore\n",
    "import pandas as pd\n",
    "\n",
    "db = CloudFirestoreDatabase(\"stg-cdp-seattle\")\n",
    "fs = GCSFileStore(\"stg-cdp-seattle.appspot.com\")\n",
    "db, fs"
   ]
  },
  {
   "cell_type": "markdown",
   "metadata": {},
   "source": [
    "### Find all transcripts\n",
    "\n",
    "Simple query the transcript table!"
   ]
  },
  {
   "cell_type": "code",
   "execution_count": 3,
   "metadata": {},
   "outputs": [
    {
     "data": {
      "text/html": [
       "<div>\n",
       "<style scoped>\n",
       "    .dataframe tbody tr th:only-of-type {\n",
       "        vertical-align: middle;\n",
       "    }\n",
       "\n",
       "    .dataframe tbody tr th {\n",
       "        vertical-align: top;\n",
       "    }\n",
       "\n",
       "    .dataframe thead th {\n",
       "        text-align: right;\n",
       "    }\n",
       "</style>\n",
       "<table border=\"1\" class=\"dataframe\">\n",
       "  <thead>\n",
       "    <tr style=\"text-align: right;\">\n",
       "      <th></th>\n",
       "      <th>confidence</th>\n",
       "      <th>created</th>\n",
       "      <th>event_id</th>\n",
       "      <th>file_id</th>\n",
       "      <th>id</th>\n",
       "    </tr>\n",
       "  </thead>\n",
       "  <tbody>\n",
       "    <tr>\n",
       "      <th>0</th>\n",
       "      <td>0.947337</td>\n",
       "      <td>2019-04-21 23:31:38.809855</td>\n",
       "      <td>226d8033-666c-49aa-831d-37d04d693106</td>\n",
       "      <td>43b2d231-5a0e-4c5b-876e-51859e86f0da</td>\n",
       "      <td>658bfe6b-6efc-4efc-b7c9-de53a1a98651</td>\n",
       "    </tr>\n",
       "    <tr>\n",
       "      <th>1</th>\n",
       "      <td>0.924026</td>\n",
       "      <td>2019-04-21 23:30:06.600107</td>\n",
       "      <td>bcdff355-e045-45ee-b1f5-477cb518a27e</td>\n",
       "      <td>0aceb6c8-3f7c-494f-9a97-cf5c319acb77</td>\n",
       "      <td>a5ae7d7d-3bc2-4c3a-b07a-7829a8abf1c9</td>\n",
       "    </tr>\n",
       "    <tr>\n",
       "      <th>2</th>\n",
       "      <td>0.930153</td>\n",
       "      <td>2019-04-21 23:58:05.245933</td>\n",
       "      <td>0e3bd59c-3f07-452c-83cf-e9eebeb73af2</td>\n",
       "      <td>ebbd9727-d3ef-41ea-82b5-1cda7d1ca050</td>\n",
       "      <td>bb31c1eb-021d-4eb4-8c34-ec97e8871828</td>\n",
       "    </tr>\n",
       "    <tr>\n",
       "      <th>3</th>\n",
       "      <td>0.933456</td>\n",
       "      <td>2019-04-21 23:24:47.975906</td>\n",
       "      <td>614c9534-810f-48b7-b375-afc6e14024cd</td>\n",
       "      <td>480cb0a9-0c5f-4791-8795-ca71583eb785</td>\n",
       "      <td>d147a3ac-2b08-462f-b2ba-c7c18c182c2d</td>\n",
       "    </tr>\n",
       "    <tr>\n",
       "      <th>4</th>\n",
       "      <td>0.927340</td>\n",
       "      <td>2019-04-21 23:23:31.532067</td>\n",
       "      <td>1ffb5920-3c23-4084-b287-cef74c9c56c8</td>\n",
       "      <td>0099dfe6-ee18-4a16-a9b5-e7a053d9582d</td>\n",
       "      <td>d4e6bb99-6624-44af-a25f-dfde9f69bf29</td>\n",
       "    </tr>\n",
       "  </tbody>\n",
       "</table>\n",
       "</div>"
      ],
      "text/plain": [
       "   confidence                    created  \\\n",
       "0    0.947337 2019-04-21 23:31:38.809855   \n",
       "1    0.924026 2019-04-21 23:30:06.600107   \n",
       "2    0.930153 2019-04-21 23:58:05.245933   \n",
       "3    0.933456 2019-04-21 23:24:47.975906   \n",
       "4    0.927340 2019-04-21 23:23:31.532067   \n",
       "\n",
       "                               event_id                               file_id  \\\n",
       "0  226d8033-666c-49aa-831d-37d04d693106  43b2d231-5a0e-4c5b-876e-51859e86f0da   \n",
       "1  bcdff355-e045-45ee-b1f5-477cb518a27e  0aceb6c8-3f7c-494f-9a97-cf5c319acb77   \n",
       "2  0e3bd59c-3f07-452c-83cf-e9eebeb73af2  ebbd9727-d3ef-41ea-82b5-1cda7d1ca050   \n",
       "3  614c9534-810f-48b7-b375-afc6e14024cd  480cb0a9-0c5f-4791-8795-ca71583eb785   \n",
       "4  1ffb5920-3c23-4084-b287-cef74c9c56c8  0099dfe6-ee18-4a16-a9b5-e7a053d9582d   \n",
       "\n",
       "                                     id  \n",
       "0  658bfe6b-6efc-4efc-b7c9-de53a1a98651  \n",
       "1  a5ae7d7d-3bc2-4c3a-b07a-7829a8abf1c9  \n",
       "2  bb31c1eb-021d-4eb4-8c34-ec97e8871828  \n",
       "3  d147a3ac-2b08-462f-b2ba-c7c18c182c2d  \n",
       "4  d4e6bb99-6624-44af-a25f-dfde9f69bf29  "
      ]
     },
     "execution_count": 3,
     "metadata": {},
     "output_type": "execute_result"
    }
   ],
   "source": [
    "transcripts = pd.DataFrame(db.select_rows_as_list(\"transcript\"))\n",
    "transcripts"
   ]
  },
  {
   "cell_type": "markdown",
   "metadata": {},
   "source": [
    "### Join file, event, and body information\n",
    "\n",
    "While the above results are somewhat useful, we should probably merge information from the other tables too..."
   ]
  },
  {
   "cell_type": "code",
   "execution_count": 5,
   "metadata": {},
   "outputs": [],
   "source": [
    "# Get the other tables\n",
    "events = pd.DataFrame(db.select_rows_as_list(\"event\"))\n",
    "bodies = pd.DataFrame(db.select_rows_as_list(\"body\"))\n",
    "files = pd.DataFrame(db.select_rows_as_list(\"file\"))\n",
    "\n",
    "# Merge the transcripts"
   ]
  },
  {
   "cell_type": "code",
   "execution_count": null,
   "metadata": {},
   "outputs": [],
   "source": []
  }
 ],
 "metadata": {
  "kernelspec": {
   "display_name": "Python 3",
   "language": "python",
   "name": "python3"
  },
  "language_info": {
   "codemirror_mode": {
    "name": "ipython",
    "version": 3
   },
   "file_extension": ".py",
   "mimetype": "text/x-python",
   "name": "python",
   "nbconvert_exporter": "python",
   "pygments_lexer": "ipython3",
   "version": "3.7.3"
  }
 },
 "nbformat": 4,
 "nbformat_minor": 2
}
