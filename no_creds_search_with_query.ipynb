{
 "cells": [
  {
   "cell_type": "code",
   "execution_count": 1,
   "metadata": {},
   "outputs": [],
   "source": [
    "import requests\n",
    "import json\n",
    "from datetime import datetime"
   ]
  },
  {
   "cell_type": "code",
   "execution_count": 2,
   "metadata": {},
   "outputs": [],
   "source": [
    "response = requests.post(\n",
    "    \"https://firestore.googleapis.com/v1/projects/stg-cdp-seattle/databases/(default)/documents:runQuery\",\n",
    "    data=json.dumps({\n",
    "        \"structuredQuery\": {\n",
    "#             \"select\": {\n",
    "#                 \"fields\": [\n",
    "#                     {\n",
    "#                         \"fieldPath\": \"term\"\n",
    "#                     },\n",
    "#                     {\n",
    "#                         \"fieldPath\": \"event_id\"\n",
    "#                     },\n",
    "#                     {\n",
    "#                         \"fieldPath\": \"value\"\n",
    "#                     },\n",
    "#                     {\n",
    "#                         \"fieldPath\": \"updated\"\n",
    "#                     }\n",
    "#                 ]\n",
    "#             },\n",
    "            \"from\": [\n",
    "                {\n",
    "                    \"collectionId\": \"index_term\",\n",
    "                    \"allDescendants\": False\n",
    "                }\n",
    "            ],\n",
    "            \"where\": {\n",
    "                \"fieldFilter\": {\n",
    "                    \"field\": {\n",
    "                        \"fieldPath\": \"term\"\n",
    "                    },\n",
    "                    \"op\": \"EQUAL\",\n",
    "                    \"value\": {\n",
    "                        \"stringValue\": \"histor\"\n",
    "                    }\n",
    "                }\n",
    "            },\n",
    "            \"limit\": 2\n",
    "        }\n",
    "    })\n",
    ")"
   ]
  },
  {
   "cell_type": "code",
   "execution_count": 3,
   "metadata": {},
   "outputs": [
    {
     "data": {
      "text/plain": [
       "[{'document': {'name': 'projects/stg-cdp-seattle/databases/(default)/documents/index_term/000bc76c-176a-4813-9a1c-ddfa336455ee',\n",
       "   'fields': {'term': {'stringValue': 'histor'},\n",
       "    'event_id': {'stringValue': '61d25aaf-01cf-40d7-a84d-335d6a8b834d'},\n",
       "    'value': {'doubleValue': 2.6777226157705174},\n",
       "    'updated': {'timestampValue': '2019-07-21T18:16:12.360386Z'}},\n",
       "   'createTime': '2019-07-21T18:16:12.410766Z',\n",
       "   'updateTime': '2019-07-21T18:16:12.410766Z'},\n",
       "  'readTime': '2019-07-22T05:53:35.815332Z'},\n",
       " {'document': {'name': 'projects/stg-cdp-seattle/databases/(default)/documents/index_term/1f0c26be-5071-42cc-ad34-bfb12772af10',\n",
       "   'fields': {'term': {'stringValue': 'histor'},\n",
       "    'event_id': {'stringValue': 'b2393ed3-cfa6-4941-a502-725e1c71aec4'},\n",
       "    'updated': {'timestampValue': '2019-07-21T18:16:13.722539Z'},\n",
       "    'value': {'doubleValue': 0.8925742052568391}},\n",
       "   'createTime': '2019-07-21T18:16:13.771257Z',\n",
       "   'updateTime': '2019-07-21T18:16:13.771257Z'},\n",
       "  'readTime': '2019-07-22T05:53:35.815332Z'}]"
      ]
     },
     "execution_count": 3,
     "metadata": {},
     "output_type": "execute_result"
    }
   ],
   "source": [
    "response.json()"
   ]
  },
  {
   "cell_type": "code",
   "execution_count": 4,
   "metadata": {},
   "outputs": [
    {
     "data": {
      "text/plain": [
       "'2019-07-22T05:53:35.880869'"
      ]
     },
     "execution_count": 4,
     "metadata": {},
     "output_type": "execute_result"
    }
   ],
   "source": [
    "datetime.utcnow().isoformat()"
   ]
  },
  {
   "cell_type": "code",
   "execution_count": 5,
   "metadata": {},
   "outputs": [
    {
     "data": {
      "text/plain": [
       "[{'document': {'name': 'projects/stg-cdp-seattle/databases/(default)/documents/event/1408bf08-d6c0-4ab7-96de-e1ef2294f075',\n",
       "   'fields': {'legistar_event_id': {'integerValue': '4033'},\n",
       "    'event_datetime': {'timestampValue': '2019-07-17T09:30:00Z'},\n",
       "    'agenda_file_uri': {'stringValue': 'http://legistar2.granicus.com/seattle/meetings/2019/7/4033_A_Planning%2C_Land_Use%2C_and_Zoning_Committee_19-07-17_Committee_Agenda.pdf'},\n",
       "    'minutes_file_uri': {'stringValue': 'http://legistar2.granicus.com/seattle/meetings/2019/7/4033_M_Planning%2C_Land_Use%2C_and_Zoning_Committee_19-07-17_Committee_Minutes.pdf'},\n",
       "    'video_uri': {'stringValue': 'http://video.seattle.gov:8080/media/council/plan_071719_2511923V.mp4'},\n",
       "    'created': {'timestampValue': '2019-07-21T00:29:25.001338Z'},\n",
       "    'body_id': {'stringValue': 'ad388d06-06d4-4af5-a2f8-901e977cfaa7'},\n",
       "    'legistar_event_link': {'stringValue': 'https://seattle.legistar.com/MeetingDetail.aspx?LEGID=4033&GID=393&G=FFE3B678-CEF6-4197-84AC-5204EA4CFC0C'},\n",
       "    'source_uri': {'stringValue': 'http://www.seattlechannel.org/mayor-and-council/city-council/2018/2019-planning-land-use-and-zoning-committee?videoid=x105878'}},\n",
       "   'createTime': '2019-07-21T00:29:25.172649Z',\n",
       "   'updateTime': '2019-07-21T00:29:25.172649Z'},\n",
       "  'readTime': '2019-07-22T05:53:35.978993Z'},\n",
       " {'document': {'name': 'projects/stg-cdp-seattle/databases/(default)/documents/event/1d0c6214-1343-463d-b0ab-03a3d5e36c5d',\n",
       "   'fields': {'created': {'timestampValue': '2019-07-20T23:44:41.348645Z'},\n",
       "    'body_id': {'stringValue': '30a859c2-3755-4754-a108-c84476bfe886'},\n",
       "    'legistar_event_link': {'stringValue': 'https://seattle.legistar.com/MeetingDetail.aspx?LEGID=4008&GID=393&G=FFE3B678-CEF6-4197-84AC-5204EA4CFC0C'},\n",
       "    'source_uri': {'stringValue': 'http://www.seattlechannel.org/mayor-and-council/city-council/select-committee-on-homelessness-and-housing-affordability?videoid=x105467'},\n",
       "    'legistar_event_id': {'integerValue': '4008'},\n",
       "    'event_datetime': {'timestampValue': '2019-06-24T10:30:00Z'},\n",
       "    'agenda_file_uri': {'stringValue': 'http://legistar2.granicus.com/seattle/meetings/2019/6/4008_A_Select_Committee_on_Homelessness_and_Housing_Affordability_19-06-24_Committee_Agenda.pdf'},\n",
       "    'minutes_file_uri': {'stringValue': 'http://legistar2.granicus.com/seattle/meetings/2019/6/4008_M_Select_Committee_on_Homelessness_and_Housing_Affordability_19-06-24_Committee_Minutes.pdf'},\n",
       "    'video_uri': {'stringValue': 'http://video.seattle.gov:8080/media/council/home_062419_2161929V.mp4'}},\n",
       "   'createTime': '2019-07-20T23:44:41.514844Z',\n",
       "   'updateTime': '2019-07-20T23:44:41.514844Z'},\n",
       "  'readTime': '2019-07-22T05:53:35.978993Z'}]"
      ]
     },
     "execution_count": 5,
     "metadata": {},
     "output_type": "execute_result"
    }
   ],
   "source": [
    "response = requests.post(\n",
    "    \"https://firestore.googleapis.com/v1/projects/stg-cdp-seattle/databases/(default)/documents:runQuery\",\n",
    "    data=json.dumps({\n",
    "        \"structuredQuery\": {\n",
    "            \"from\": {\n",
    "                \"collectionId\": \"event\",\n",
    "                \"allDescendants\": False\n",
    "            }\n",
    "        }\n",
    "    })\n",
    ")\n",
    "response.json()[:2]"
   ]
  },
  {
   "cell_type": "code",
   "execution_count": null,
   "metadata": {},
   "outputs": [],
   "source": []
  }
 ],
 "metadata": {
  "kernelspec": {
   "display_name": "Python 3",
   "language": "python",
   "name": "python3"
  },
  "language_info": {
   "codemirror_mode": {
    "name": "ipython",
    "version": 3
   },
   "file_extension": ".py",
   "mimetype": "text/x-python",
   "name": "python",
   "nbconvert_exporter": "python",
   "pygments_lexer": "ipython3",
   "version": "3.7.3"
  }
 },
 "nbformat": 4,
 "nbformat_minor": 4
}
