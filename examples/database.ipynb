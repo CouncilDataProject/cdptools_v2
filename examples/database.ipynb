{
 "cells": [
  {
   "cell_type": "markdown",
   "metadata": {},
   "source": [
    "# Using CDP Databases\n",
    "Methods for retrieving open access data.\n",
    "\n",
    "A database schema diagram for production instances of CDP may be found [here](https://github.com/CouncilDataProject/cdptools/blob/master/docs/resources/database_diagram.pdf)."
   ]
  },
  {
   "cell_type": "code",
   "execution_count": 1,
   "metadata": {},
   "outputs": [
    {
     "data": {
      "text/plain": [
       "<CloudFirestoreDatabase [stg-cdp-seattle]>"
      ]
     },
     "execution_count": 1,
     "metadata": {},
     "output_type": "execute_result"
    }
   ],
   "source": [
    "from cdptools import CDPInstance, configs\n",
    "\n",
    "seattle = CDPInstance(configs.SEATTLE)\n",
    "seattle.database"
   ]
  },
  {
   "cell_type": "markdown",
   "metadata": {},
   "source": [
    "### Retrieving a single item\n",
    "If you know the id of an item in a table, please use the `select_row_by_id` function provided."
   ]
  },
  {
   "cell_type": "code",
   "execution_count": 2,
   "metadata": {},
   "outputs": [
    {
     "data": {
      "text/plain": [
       "{'event_id': '1d57a6d9-965e-4e37-b0fb-a0bcf84fa22e',\n",
       " 'source_uri': 'http://www.seattlechannel.org/mayor-and-council/city-council/2018/2019-governance-equity-and-technology-committee?videoid=x106134',\n",
       " 'legistar_event_id': 4055,\n",
       " 'event_datetime': datetime.datetime(2019, 8, 6, 9, 30),\n",
       " 'agenda_file_uri': 'http://legistar2.granicus.com/seattle/meetings/2019/8/4055_A_Governance%2C_Equity%2C_and_Technology_Committee_19-08-06_Committee_Agenda.pdf',\n",
       " 'minutes_file_uri': None,\n",
       " 'video_uri': 'https://video.seattle.gov/media/council/gov_080619_2571925V.mp4',\n",
       " 'created': datetime.datetime(2019, 8, 7, 4, 25, 27, 506080),\n",
       " 'body_id': '2d74aeb0-71dd-47bb-a534-df6db760de17',\n",
       " 'legistar_event_link': 'https://seattle.legistar.com/MeetingDetail.aspx?LEGID=4055&GID=393&G=FFE3B678-CEF6-4197-84AC-5204EA4CFC0C'}"
      ]
     },
     "execution_count": 2,
     "metadata": {},
     "output_type": "execute_result"
    }
   ],
   "source": [
    "event = seattle.database.select_row_by_id(table=\"event\", id=\"1d57a6d9-965e-4e37-b0fb-a0bcf84fa22e\")\n",
    "event"
   ]
  },
  {
   "cell_type": "markdown",
   "metadata": {},
   "source": [
    "### Retrieving many items from a table\n",
    "\n",
    "You may not know the id's of items you are looking for. In that case, use the `select_rows_as_list` function provided."
   ]
  },
  {
   "cell_type": "code",
   "execution_count": 3,
   "metadata": {},
   "outputs": [
    {
     "data": {
      "text/plain": [
       "{'event_id': '1d57a6d9-965e-4e37-b0fb-a0bcf84fa22e',\n",
       " 'body_id': '2d74aeb0-71dd-47bb-a534-df6db760de17',\n",
       " 'legistar_event_link': 'https://seattle.legistar.com/MeetingDetail.aspx?LEGID=4055&GID=393&G=FFE3B678-CEF6-4197-84AC-5204EA4CFC0C',\n",
       " 'source_uri': 'http://www.seattlechannel.org/mayor-and-council/city-council/2018/2019-governance-equity-and-technology-committee?videoid=x106134',\n",
       " 'legistar_event_id': 4055,\n",
       " 'event_datetime': datetime.datetime(2019, 8, 6, 9, 30),\n",
       " 'agenda_file_uri': 'http://legistar2.granicus.com/seattle/meetings/2019/8/4055_A_Governance%2C_Equity%2C_and_Technology_Committee_19-08-06_Committee_Agenda.pdf',\n",
       " 'minutes_file_uri': None,\n",
       " 'video_uri': 'https://video.seattle.gov/media/council/gov_080619_2571925V.mp4',\n",
       " 'created': datetime.datetime(2019, 8, 7, 4, 25, 27, 506080)}"
      ]
     },
     "execution_count": 3,
     "metadata": {},
     "output_type": "execute_result"
    }
   ],
   "source": [
    "events = seattle.database.select_rows_as_list(table=\"event\")\n",
    "events[0]"
   ]
  },
  {
   "cell_type": "markdown",
   "metadata": {},
   "source": [
    "### Joining with other tables\n",
    "\n",
    "In the above event results, notice that a `body_id` is returned for each event. To attach body details to this we can use the python package `pandas` and query the `body` table. Let's first put each of the query results into `pandas.DataFrame` objects."
   ]
  },
  {
   "cell_type": "code",
   "execution_count": 4,
   "metadata": {},
   "outputs": [],
   "source": [
    "import pandas as pd"
   ]
  },
  {
   "cell_type": "code",
   "execution_count": 5,
   "metadata": {},
   "outputs": [
    {
     "data": {
      "text/html": [
       "<div>\n",
       "<style scoped>\n",
       "    .dataframe tbody tr th:only-of-type {\n",
       "        vertical-align: middle;\n",
       "    }\n",
       "\n",
       "    .dataframe tbody tr th {\n",
       "        vertical-align: top;\n",
       "    }\n",
       "\n",
       "    .dataframe thead th {\n",
       "        text-align: right;\n",
       "    }\n",
       "</style>\n",
       "<table border=\"1\" class=\"dataframe\">\n",
       "  <thead>\n",
       "    <tr style=\"text-align: right;\">\n",
       "      <th></th>\n",
       "      <th>event_id</th>\n",
       "      <th>body_id</th>\n",
       "      <th>legistar_event_link</th>\n",
       "      <th>source_uri</th>\n",
       "      <th>legistar_event_id</th>\n",
       "      <th>event_datetime</th>\n",
       "      <th>agenda_file_uri</th>\n",
       "      <th>minutes_file_uri</th>\n",
       "      <th>video_uri</th>\n",
       "      <th>created</th>\n",
       "    </tr>\n",
       "  </thead>\n",
       "  <tbody>\n",
       "    <tr>\n",
       "      <th>0</th>\n",
       "      <td>1d57a6d9-965e-4e37-b0fb-a0bcf84fa22e</td>\n",
       "      <td>2d74aeb0-71dd-47bb-a534-df6db760de17</td>\n",
       "      <td>https://seattle.legistar.com/MeetingDetail.asp...</td>\n",
       "      <td>http://www.seattlechannel.org/mayor-and-counci...</td>\n",
       "      <td>4055</td>\n",
       "      <td>2019-08-06 09:30:00</td>\n",
       "      <td>http://legistar2.granicus.com/seattle/meetings...</td>\n",
       "      <td>None</td>\n",
       "      <td>https://video.seattle.gov/media/council/gov_08...</td>\n",
       "      <td>2019-08-07 04:25:27.506080</td>\n",
       "    </tr>\n",
       "    <tr>\n",
       "      <th>1</th>\n",
       "      <td>36cbb43b-faf0-48aa-96b3-7f201d51b114</td>\n",
       "      <td>887c08bd-ae3b-455a-85bd-3c17502b3121</td>\n",
       "      <td>https://seattle.legistar.com/MeetingDetail.asp...</td>\n",
       "      <td>http://www.seattlechannel.org/mayor-and-counci...</td>\n",
       "      <td>4056</td>\n",
       "      <td>2019-08-06 14:00:00</td>\n",
       "      <td>http://legistar2.granicus.com/seattle/meetings...</td>\n",
       "      <td>None</td>\n",
       "      <td>https://video.seattle.gov/media/council/sus_08...</td>\n",
       "      <td>2019-08-07 05:17:33.183874</td>\n",
       "    </tr>\n",
       "  </tbody>\n",
       "</table>\n",
       "</div>"
      ],
      "text/plain": [
       "                               event_id                               body_id  \\\n",
       "0  1d57a6d9-965e-4e37-b0fb-a0bcf84fa22e  2d74aeb0-71dd-47bb-a534-df6db760de17   \n",
       "1  36cbb43b-faf0-48aa-96b3-7f201d51b114  887c08bd-ae3b-455a-85bd-3c17502b3121   \n",
       "\n",
       "                                 legistar_event_link  \\\n",
       "0  https://seattle.legistar.com/MeetingDetail.asp...   \n",
       "1  https://seattle.legistar.com/MeetingDetail.asp...   \n",
       "\n",
       "                                          source_uri  legistar_event_id  \\\n",
       "0  http://www.seattlechannel.org/mayor-and-counci...               4055   \n",
       "1  http://www.seattlechannel.org/mayor-and-counci...               4056   \n",
       "\n",
       "       event_datetime                                    agenda_file_uri  \\\n",
       "0 2019-08-06 09:30:00  http://legistar2.granicus.com/seattle/meetings...   \n",
       "1 2019-08-06 14:00:00  http://legistar2.granicus.com/seattle/meetings...   \n",
       "\n",
       "  minutes_file_uri                                          video_uri  \\\n",
       "0             None  https://video.seattle.gov/media/council/gov_08...   \n",
       "1             None  https://video.seattle.gov/media/council/sus_08...   \n",
       "\n",
       "                     created  \n",
       "0 2019-08-07 04:25:27.506080  \n",
       "1 2019-08-07 05:17:33.183874  "
      ]
     },
     "execution_count": 5,
     "metadata": {},
     "output_type": "execute_result"
    }
   ],
   "source": [
    "events = pd.DataFrame(events)\n",
    "events.head()"
   ]
  },
  {
   "cell_type": "code",
   "execution_count": 6,
   "metadata": {},
   "outputs": [
    {
     "data": {
      "text/html": [
       "<div>\n",
       "<style scoped>\n",
       "    .dataframe tbody tr th:only-of-type {\n",
       "        vertical-align: middle;\n",
       "    }\n",
       "\n",
       "    .dataframe tbody tr th {\n",
       "        vertical-align: top;\n",
       "    }\n",
       "\n",
       "    .dataframe thead th {\n",
       "        text-align: right;\n",
       "    }\n",
       "</style>\n",
       "<table border=\"1\" class=\"dataframe\">\n",
       "  <thead>\n",
       "    <tr style=\"text-align: right;\">\n",
       "      <th></th>\n",
       "      <th>body_id</th>\n",
       "      <th>name</th>\n",
       "      <th>description</th>\n",
       "      <th>created</th>\n",
       "    </tr>\n",
       "  </thead>\n",
       "  <tbody>\n",
       "    <tr>\n",
       "      <th>0</th>\n",
       "      <td>2d74aeb0-71dd-47bb-a534-df6db760de17</td>\n",
       "      <td>Governance, Equity, and Technology Committee</td>\n",
       "      <td>None</td>\n",
       "      <td>2019-08-07 04:25:27.279863</td>\n",
       "    </tr>\n",
       "    <tr>\n",
       "      <th>1</th>\n",
       "      <td>887c08bd-ae3b-455a-85bd-3c17502b3121</td>\n",
       "      <td>Sustainability and Transportation Committee</td>\n",
       "      <td>None</td>\n",
       "      <td>2019-08-07 05:17:32.926111</td>\n",
       "    </tr>\n",
       "  </tbody>\n",
       "</table>\n",
       "</div>"
      ],
      "text/plain": [
       "                                body_id  \\\n",
       "0  2d74aeb0-71dd-47bb-a534-df6db760de17   \n",
       "1  887c08bd-ae3b-455a-85bd-3c17502b3121   \n",
       "\n",
       "                                           name description  \\\n",
       "0  Governance, Equity, and Technology Committee        None   \n",
       "1   Sustainability and Transportation Committee        None   \n",
       "\n",
       "                     created  \n",
       "0 2019-08-07 04:25:27.279863  \n",
       "1 2019-08-07 05:17:32.926111  "
      ]
     },
     "execution_count": 6,
     "metadata": {},
     "output_type": "execute_result"
    }
   ],
   "source": [
    "bodies = seattle.database.select_rows_as_list(\"body\")\n",
    "bodies = pd.DataFrame(bodies)\n",
    "bodies.head()"
   ]
  },
  {
   "cell_type": "code",
   "execution_count": 7,
   "metadata": {},
   "outputs": [
    {
     "data": {
      "text/html": [
       "<div>\n",
       "<style scoped>\n",
       "    .dataframe tbody tr th:only-of-type {\n",
       "        vertical-align: middle;\n",
       "    }\n",
       "\n",
       "    .dataframe tbody tr th {\n",
       "        vertical-align: top;\n",
       "    }\n",
       "\n",
       "    .dataframe thead th {\n",
       "        text-align: right;\n",
       "    }\n",
       "</style>\n",
       "<table border=\"1\" class=\"dataframe\">\n",
       "  <thead>\n",
       "    <tr style=\"text-align: right;\">\n",
       "      <th></th>\n",
       "      <th>event_id</th>\n",
       "      <th>body_id</th>\n",
       "      <th>legistar_event_link</th>\n",
       "      <th>source_uri</th>\n",
       "      <th>legistar_event_id</th>\n",
       "      <th>event_datetime</th>\n",
       "      <th>agenda_file_uri</th>\n",
       "      <th>minutes_file_uri</th>\n",
       "      <th>video_uri</th>\n",
       "      <th>created_event</th>\n",
       "      <th>name</th>\n",
       "      <th>description</th>\n",
       "      <th>created_body</th>\n",
       "    </tr>\n",
       "  </thead>\n",
       "  <tbody>\n",
       "    <tr>\n",
       "      <th>0</th>\n",
       "      <td>1d57a6d9-965e-4e37-b0fb-a0bcf84fa22e</td>\n",
       "      <td>2d74aeb0-71dd-47bb-a534-df6db760de17</td>\n",
       "      <td>https://seattle.legistar.com/MeetingDetail.asp...</td>\n",
       "      <td>http://www.seattlechannel.org/mayor-and-counci...</td>\n",
       "      <td>4055</td>\n",
       "      <td>2019-08-06 09:30:00</td>\n",
       "      <td>http://legistar2.granicus.com/seattle/meetings...</td>\n",
       "      <td>None</td>\n",
       "      <td>https://video.seattle.gov/media/council/gov_08...</td>\n",
       "      <td>2019-08-07 04:25:27.506080</td>\n",
       "      <td>Governance, Equity, and Technology Committee</td>\n",
       "      <td>None</td>\n",
       "      <td>2019-08-07 04:25:27.279863</td>\n",
       "    </tr>\n",
       "    <tr>\n",
       "      <th>1</th>\n",
       "      <td>36cbb43b-faf0-48aa-96b3-7f201d51b114</td>\n",
       "      <td>887c08bd-ae3b-455a-85bd-3c17502b3121</td>\n",
       "      <td>https://seattle.legistar.com/MeetingDetail.asp...</td>\n",
       "      <td>http://www.seattlechannel.org/mayor-and-counci...</td>\n",
       "      <td>4056</td>\n",
       "      <td>2019-08-06 14:00:00</td>\n",
       "      <td>http://legistar2.granicus.com/seattle/meetings...</td>\n",
       "      <td>None</td>\n",
       "      <td>https://video.seattle.gov/media/council/sus_08...</td>\n",
       "      <td>2019-08-07 05:17:33.183874</td>\n",
       "      <td>Sustainability and Transportation Committee</td>\n",
       "      <td>None</td>\n",
       "      <td>2019-08-07 05:17:32.926111</td>\n",
       "    </tr>\n",
       "  </tbody>\n",
       "</table>\n",
       "</div>"
      ],
      "text/plain": [
       "                               event_id                               body_id  \\\n",
       "0  1d57a6d9-965e-4e37-b0fb-a0bcf84fa22e  2d74aeb0-71dd-47bb-a534-df6db760de17   \n",
       "1  36cbb43b-faf0-48aa-96b3-7f201d51b114  887c08bd-ae3b-455a-85bd-3c17502b3121   \n",
       "\n",
       "                                 legistar_event_link  \\\n",
       "0  https://seattle.legistar.com/MeetingDetail.asp...   \n",
       "1  https://seattle.legistar.com/MeetingDetail.asp...   \n",
       "\n",
       "                                          source_uri  legistar_event_id  \\\n",
       "0  http://www.seattlechannel.org/mayor-and-counci...               4055   \n",
       "1  http://www.seattlechannel.org/mayor-and-counci...               4056   \n",
       "\n",
       "       event_datetime                                    agenda_file_uri  \\\n",
       "0 2019-08-06 09:30:00  http://legistar2.granicus.com/seattle/meetings...   \n",
       "1 2019-08-06 14:00:00  http://legistar2.granicus.com/seattle/meetings...   \n",
       "\n",
       "  minutes_file_uri                                          video_uri  \\\n",
       "0             None  https://video.seattle.gov/media/council/gov_08...   \n",
       "1             None  https://video.seattle.gov/media/council/sus_08...   \n",
       "\n",
       "               created_event                                          name  \\\n",
       "0 2019-08-07 04:25:27.506080  Governance, Equity, and Technology Committee   \n",
       "1 2019-08-07 05:17:33.183874   Sustainability and Transportation Committee   \n",
       "\n",
       "  description               created_body  \n",
       "0        None 2019-08-07 04:25:27.279863  \n",
       "1        None 2019-08-07 05:17:32.926111  "
      ]
     },
     "execution_count": 7,
     "metadata": {},
     "output_type": "execute_result"
    }
   ],
   "source": [
    "expanded_event_details = events.merge(bodies, left_on=\"body_id\", right_on=\"body_id\", suffixes=(\"_event\", \"_body\"))\n",
    "expanded_event_details.head()"
   ]
  },
  {
   "cell_type": "markdown",
   "metadata": {},
   "source": [
    "`left_on` refers to the column name in the dataframe calling the operation.\n",
    "In this case, the column to merge on is `body_id` in the events results.\n",
    "\n",
    "Similarly, `right_on` refers to the column name in the dataframe to be passed to the operation.\n",
    "In this case, the column to merge on is `id` in the bodies results.\n",
    "\n",
    "`suffixes` is a tuple to use for adding suffixes to any columns with the same name between the two dataframes.\n",
    "Commonly for CDP query results, these are columns such as `created`, which provide a `datetime` value for when that row was stored in the database.\n",
    "\n",
    "Please refer to `pandas.DataFrame.merge` documentation for more details.\n",
    "\n",
    "[reference](https://pandas.pydata.org/pandas-docs/stable/reference/api/pandas.DataFrame.merge.html#pandas.DataFrame.merge)"
   ]
  },
  {
   "cell_type": "markdown",
   "metadata": {},
   "source": [
    "### Filtering\n",
    "\n",
    "You may notice that the function: `select_rows_as_list` allows for additional parameters to be passed: `filters`, `order_by`, and `limit`. Currently, it is very easy to filter or order by a single field for CDP instances that use a Cloud Firestore Database.\n",
    "\n",
    "For example, let's request only events from the \"Sustainability and Transportation Committee\" (`body_id`: `887c08bd-ae3b-455a-85bd-3c17502b3121`)"
   ]
  },
  {
   "cell_type": "code",
   "execution_count": 8,
   "metadata": {},
   "outputs": [
    {
     "data": {
      "text/html": [
       "<div>\n",
       "<style scoped>\n",
       "    .dataframe tbody tr th:only-of-type {\n",
       "        vertical-align: middle;\n",
       "    }\n",
       "\n",
       "    .dataframe tbody tr th {\n",
       "        vertical-align: top;\n",
       "    }\n",
       "\n",
       "    .dataframe thead th {\n",
       "        text-align: right;\n",
       "    }\n",
       "</style>\n",
       "<table border=\"1\" class=\"dataframe\">\n",
       "  <thead>\n",
       "    <tr style=\"text-align: right;\">\n",
       "      <th></th>\n",
       "      <th>event_id</th>\n",
       "      <th>legistar_event_id</th>\n",
       "      <th>event_datetime</th>\n",
       "      <th>agenda_file_uri</th>\n",
       "      <th>minutes_file_uri</th>\n",
       "      <th>video_uri</th>\n",
       "      <th>created</th>\n",
       "      <th>body_id</th>\n",
       "      <th>legistar_event_link</th>\n",
       "      <th>source_uri</th>\n",
       "    </tr>\n",
       "  </thead>\n",
       "  <tbody>\n",
       "    <tr>\n",
       "      <th>0</th>\n",
       "      <td>36cbb43b-faf0-48aa-96b3-7f201d51b114</td>\n",
       "      <td>4056</td>\n",
       "      <td>2019-08-06 14:00:00</td>\n",
       "      <td>http://legistar2.granicus.com/seattle/meetings...</td>\n",
       "      <td>None</td>\n",
       "      <td>https://video.seattle.gov/media/council/sus_08...</td>\n",
       "      <td>2019-08-07 05:17:33.183874</td>\n",
       "      <td>887c08bd-ae3b-455a-85bd-3c17502b3121</td>\n",
       "      <td>https://seattle.legistar.com/MeetingDetail.asp...</td>\n",
       "      <td>http://www.seattlechannel.org/mayor-and-counci...</td>\n",
       "    </tr>\n",
       "  </tbody>\n",
       "</table>\n",
       "</div>"
      ],
      "text/plain": [
       "                               event_id  legistar_event_id  \\\n",
       "0  36cbb43b-faf0-48aa-96b3-7f201d51b114               4056   \n",
       "\n",
       "       event_datetime                                    agenda_file_uri  \\\n",
       "0 2019-08-06 14:00:00  http://legistar2.granicus.com/seattle/meetings...   \n",
       "\n",
       "  minutes_file_uri                                          video_uri  \\\n",
       "0             None  https://video.seattle.gov/media/council/sus_08...   \n",
       "\n",
       "                     created                               body_id  \\\n",
       "0 2019-08-07 05:17:33.183874  887c08bd-ae3b-455a-85bd-3c17502b3121   \n",
       "\n",
       "                                 legistar_event_link  \\\n",
       "0  https://seattle.legistar.com/MeetingDetail.asp...   \n",
       "\n",
       "                                          source_uri  \n",
       "0  http://www.seattlechannel.org/mayor-and-counci...  "
      ]
     },
     "execution_count": 8,
     "metadata": {},
     "output_type": "execute_result"
    }
   ],
   "source": [
    "from cdptools.databases import WhereOperators\n",
    "\n",
    "# WhereOperators.eq is short hand for \"equal to\"\n",
    "sustainability_meetings = seattle.database.select_rows_as_list(\"event\", filters=[(\"body_id\", WhereOperators.eq, \"887c08bd-ae3b-455a-85bd-3c17502b3121\")])\n",
    "sustainability_meetings = pd.DataFrame(sustainability_meetings)\n",
    "sustainability_meetings"
   ]
  },
  {
   "cell_type": "markdown",
   "metadata": {},
   "source": [
    "Unfortunately, for Cloud Firestore Databases, requesting to filter on multiple fields or requesting to filter and order by *may* result in an error but the error will provide  directions to add an index to the database to make that query possible. Please contact the maintainer of that CDP instance you are using and ask if they will add a composite index to the database.\n",
    "\n",
    "Most operations can be done with simply queries, but in the case they can't, please refer to this [stackoverflow post](https://stackoverflow.com/questions/17071871/select-rows-from-a-dataframe-based-on-values-in-a-column-in-pandas) about filtering down dataframes that can be used while your CDP instance maintainer is adding an additional index."
   ]
  }
 ],
 "metadata": {
  "kernelspec": {
   "display_name": "Python 3",
   "language": "python",
   "name": "python3"
  },
  "language_info": {
   "codemirror_mode": {
    "name": "ipython",
    "version": 3
   },
   "file_extension": ".py",
   "mimetype": "text/x-python",
   "name": "python",
   "nbconvert_exporter": "python",
   "pygments_lexer": "ipython3",
   "version": "3.7.3"
  }
 },
 "nbformat": 4,
 "nbformat_minor": 4
}
