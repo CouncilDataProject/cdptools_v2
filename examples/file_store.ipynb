{
 "cells": [
  {
   "cell_type": "markdown",
   "metadata": {},
   "source": [
    "# Using CDP File Stores\n",
    "\n",
    "Methods for retrieving open access data."
   ]
  },
  {
   "cell_type": "code",
   "execution_count": 1,
   "metadata": {},
   "outputs": [
    {
     "data": {
      "text/plain": [
       "<GCSFileStore [stg-cdp-seattle.appspot.com]>"
      ]
     },
     "execution_count": 1,
     "metadata": {},
     "output_type": "execute_result"
    }
   ],
   "source": [
    "from cdptools import CDPInstance, configs\n",
    "\n",
    "seattle = CDPInstance(configs.SEATTLE)\n",
    "seattle.file_store"
   ]
  },
  {
   "cell_type": "markdown",
   "metadata": {},
   "source": [
    "### Getting file URIs\n",
    "\n",
    "If you know which file you are looking for, simply pass the filename. Files are tagged with a `SHA256` hash of the video uri used to create all downstream artifacts. You can either recreate the hash for the event you are looking for, or query the database for file linkage. For details on database usage, refer to the notebook example on database basics [here](./database.ipynb)."
   ]
  },
  {
   "cell_type": "code",
   "execution_count": 2,
   "metadata": {},
   "outputs": [
    {
     "data": {
      "text/plain": [
       "'https://storage.googleapis.com/stg-cdp-seattle.appspot.com/b0d394f1837ee56aae3664e8e665e806564b52953bfce0e98045a7dcc9c24f69_audio.wav'"
      ]
     },
     "execution_count": 2,
     "metadata": {},
     "output_type": "execute_result"
    }
   ],
   "source": [
    "# Using a hash\n",
    "import hashlib\n",
    "key = hashlib.sha256(\"https://video.seattle.gov/media/council/gov_080619_2571925V.mp4\".encode(\"utf8\")).hexdigest()\n",
    "seattle.file_store.get_file_uri(f\"{key}_audio.wav\")"
   ]
  },
  {
   "cell_type": "code",
   "execution_count": 3,
   "metadata": {},
   "outputs": [
    {
     "data": {
      "text/html": [
       "<div>\n",
       "<style scoped>\n",
       "    .dataframe tbody tr th:only-of-type {\n",
       "        vertical-align: middle;\n",
       "    }\n",
       "\n",
       "    .dataframe tbody tr th {\n",
       "        vertical-align: top;\n",
       "    }\n",
       "\n",
       "    .dataframe thead th {\n",
       "        text-align: right;\n",
       "    }\n",
       "</style>\n",
       "<table border=\"1\" class=\"dataframe\">\n",
       "  <thead>\n",
       "    <tr style=\"text-align: right;\">\n",
       "      <th></th>\n",
       "      <th>file_id</th>\n",
       "      <th>uri</th>\n",
       "      <th>content_type</th>\n",
       "      <th>filename</th>\n",
       "      <th>description</th>\n",
       "      <th>created</th>\n",
       "    </tr>\n",
       "  </thead>\n",
       "  <tbody>\n",
       "    <tr>\n",
       "      <th>0</th>\n",
       "      <td>06fa7dcb-387a-421c-86c6-8bb8f47c8374</td>\n",
       "      <td>gs://stg-cdp-seattle.appspot.com/b0d394f1837ee...</td>\n",
       "      <td>None</td>\n",
       "      <td>b0d394f1837ee56aae3664e8e665e806564b52953bfce0...</td>\n",
       "      <td>None</td>\n",
       "      <td>2019-08-07 04:25:24.260846</td>\n",
       "    </tr>\n",
       "    <tr>\n",
       "      <th>1</th>\n",
       "      <td>12b71eb9-8c4d-4205-8dc2-cdb6d8b7fb52</td>\n",
       "      <td>gs://stg-cdp-seattle.appspot.com/b0d394f1837ee...</td>\n",
       "      <td>None</td>\n",
       "      <td>b0d394f1837ee56aae3664e8e665e806564b52953bfce0...</td>\n",
       "      <td>None</td>\n",
       "      <td>2019-08-07 04:25:23.385379</td>\n",
       "    </tr>\n",
       "    <tr>\n",
       "      <th>2</th>\n",
       "      <td>263d6c5e-51bf-4c3f-a9f2-f47dee443996</td>\n",
       "      <td>gs://stg-cdp-seattle.appspot.com/49fd94d68ee70...</td>\n",
       "      <td>None</td>\n",
       "      <td>49fd94d68ee7072972609e653a0ea180483d57de78b34d...</td>\n",
       "      <td>None</td>\n",
       "      <td>2019-08-07 05:17:28.994852</td>\n",
       "    </tr>\n",
       "    <tr>\n",
       "      <th>3</th>\n",
       "      <td>344eb89a-bdba-4e1a-899e-7ee1e5fe4b5e</td>\n",
       "      <td>gs://stg-cdp-seattle.appspot.com/49fd94d68ee70...</td>\n",
       "      <td>None</td>\n",
       "      <td>49fd94d68ee7072972609e653a0ea180483d57de78b34d...</td>\n",
       "      <td>None</td>\n",
       "      <td>2019-08-07 04:14:56.381728</td>\n",
       "    </tr>\n",
       "    <tr>\n",
       "      <th>4</th>\n",
       "      <td>5ed09a36-8783-40ff-8078-1c9079728d68</td>\n",
       "      <td>gs://stg-cdp-seattle.appspot.com/b0d394f1837ee...</td>\n",
       "      <td>None</td>\n",
       "      <td>b0d394f1837ee56aae3664e8e665e806564b52953bfce0...</td>\n",
       "      <td>None</td>\n",
       "      <td>2019-08-07 04:25:22.463978</td>\n",
       "    </tr>\n",
       "  </tbody>\n",
       "</table>\n",
       "</div>"
      ],
      "text/plain": [
       "                                file_id  \\\n",
       "0  06fa7dcb-387a-421c-86c6-8bb8f47c8374   \n",
       "1  12b71eb9-8c4d-4205-8dc2-cdb6d8b7fb52   \n",
       "2  263d6c5e-51bf-4c3f-a9f2-f47dee443996   \n",
       "3  344eb89a-bdba-4e1a-899e-7ee1e5fe4b5e   \n",
       "4  5ed09a36-8783-40ff-8078-1c9079728d68   \n",
       "\n",
       "                                                 uri content_type  \\\n",
       "0  gs://stg-cdp-seattle.appspot.com/b0d394f1837ee...         None   \n",
       "1  gs://stg-cdp-seattle.appspot.com/b0d394f1837ee...         None   \n",
       "2  gs://stg-cdp-seattle.appspot.com/49fd94d68ee70...         None   \n",
       "3  gs://stg-cdp-seattle.appspot.com/49fd94d68ee70...         None   \n",
       "4  gs://stg-cdp-seattle.appspot.com/b0d394f1837ee...         None   \n",
       "\n",
       "                                            filename description  \\\n",
       "0  b0d394f1837ee56aae3664e8e665e806564b52953bfce0...        None   \n",
       "1  b0d394f1837ee56aae3664e8e665e806564b52953bfce0...        None   \n",
       "2  49fd94d68ee7072972609e653a0ea180483d57de78b34d...        None   \n",
       "3  49fd94d68ee7072972609e653a0ea180483d57de78b34d...        None   \n",
       "4  b0d394f1837ee56aae3664e8e665e806564b52953bfce0...        None   \n",
       "\n",
       "                     created  \n",
       "0 2019-08-07 04:25:24.260846  \n",
       "1 2019-08-07 04:25:23.385379  \n",
       "2 2019-08-07 05:17:28.994852  \n",
       "3 2019-08-07 04:14:56.381728  \n",
       "4 2019-08-07 04:25:22.463978  "
      ]
     },
     "execution_count": 3,
     "metadata": {},
     "output_type": "execute_result"
    }
   ],
   "source": [
    "# Using the database\n",
    "import pandas as pd\n",
    "\n",
    "files = pd.DataFrame(seattle.database.select_rows_as_list(\"file\"))\n",
    "files.head()"
   ]
  },
  {
   "cell_type": "code",
   "execution_count": 4,
   "metadata": {},
   "outputs": [
    {
     "data": {
      "text/plain": [
       "'https://storage.googleapis.com/stg-cdp-seattle.appspot.com/b0d394f1837ee56aae3664e8e665e806564b52953bfce0e98045a7dcc9c24f69_ts_sentences_transcript_0.json'"
      ]
     },
     "execution_count": 4,
     "metadata": {},
     "output_type": "execute_result"
    }
   ],
   "source": [
    "seattle.file_store.get_file_uri(files.loc[0][\"filename\"])"
   ]
  },
  {
   "cell_type": "markdown",
   "metadata": {},
   "source": [
    "### Downloading files\n",
    "\n",
    "Unless you want to stream the data from the URI returned, it is recommended to download the file locally prior to usage.\n",
    "\n",
    "**Note:** You can optionally provide a `save_path` parameter if you don't want the file to be stored with the same name as it is stored with in the bucket."
   ]
  },
  {
   "cell_type": "code",
   "execution_count": 5,
   "metadata": {},
   "outputs": [
    {
     "data": {
      "text/plain": [
       "PosixPath('/home/maxfield/active/cdp/cdptools/examples/b0d394f1837ee56aae3664e8e665e806564b52953bfce0e98045a7dcc9c24f69_ts_sentences_transcript_0.json')"
      ]
     },
     "execution_count": 5,
     "metadata": {},
     "output_type": "execute_result"
    }
   ],
   "source": [
    "# Download to local\n",
    "save_path = seattle.file_store.download_file(files.loc[files[\"file_id\"] == \"06fa7dcb-387a-421c-86c6-8bb8f47c8374\"][\"uri\"].values[0])\n",
    "save_path"
   ]
  },
  {
   "cell_type": "markdown",
   "metadata": {},
   "source": [
    "The following code snippet reads in a transcript. CDP produced transcripts follow a specific JSON schema which you can read about in the [transcript_formats](../docs/transcript_formats.md) documentation."
   ]
  },
  {
   "cell_type": "code",
   "execution_count": 6,
   "metadata": {},
   "outputs": [
    {
     "name": "stdout",
     "output_type": "stream",
     "text": [
      "{'text': 'Good morning.', 'start_time': 18.1, 'end_time': 18.9}\n",
      "{'text': 'Thank you for being here for a regular schedules govern a second and Technology committee.', 'start_time': 18.9, 'end_time': 22.3}\n",
      "{'text': \"I'm doing Bank comes from Jennifer Samuelson just told them that we have three agenda items will cover today with the first one in Ordnance and will actually go down when creating a a code reviser position for the reasons for the Scribe during our discussion of that region.\", 'start_time': 22.3, 'end_time': 41.7}\n"
     ]
    }
   ],
   "source": [
    "# Read the transcript\n",
    "import json\n",
    "with open(save_path, \"r\") as read_in:\n",
    "    transcript = json.load(read_in)\n",
    "    for s in transcript[\"data\"][:3]:\n",
    "        print(s)"
   ]
  }
 ],
 "metadata": {
  "kernelspec": {
   "display_name": "Python 3",
   "language": "python",
   "name": "python3"
  },
  "language_info": {
   "codemirror_mode": {
    "name": "ipython",
    "version": 3
   },
   "file_extension": ".py",
   "mimetype": "text/x-python",
   "name": "python",
   "nbconvert_exporter": "python",
   "pygments_lexer": "ipython3",
   "version": "3.7.3"
  }
 },
 "nbformat": 4,
 "nbformat_minor": 4
}
