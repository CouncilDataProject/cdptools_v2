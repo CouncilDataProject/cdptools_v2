{
 "cells": [
  {
   "cell_type": "markdown",
   "metadata": {},
   "source": [
    "# Using CDP File Stores\n",
    "\n",
    "Methods for retrieving open access data."
   ]
  },
  {
   "cell_type": "markdown",
   "metadata": {},
   "source": [
    "### Connecting to the file store\n",
    "\n",
    "CDP Seattle uses Google Cloud Storage, specifically a storage bucket tied to our database to store our files. However, a properly setup file storage host and associated file store module _should_ have the same functionality.\n",
    "\n",
    "**Note:** This notebook connects to the staging instance of Seattle's GCS storage. To use production data connect to `cdp-seattle.appspot.com`."
   ]
  },
  {
   "cell_type": "code",
   "execution_count": 1,
   "metadata": {},
   "outputs": [
    {
     "data": {
      "text/plain": [
       "<GCSFileStore [stg-cdp-seattle.appspot.com]>"
      ]
     },
     "execution_count": 1,
     "metadata": {},
     "output_type": "execute_result"
    }
   ],
   "source": [
    "from cdptools.file_stores.gcs_file_store import GCSFileStore\n",
    "\n",
    "fs = GCSFileStore(\"stg-cdp-seattle.appspot.com\")\n",
    "fs"
   ]
  },
  {
   "cell_type": "markdown",
   "metadata": {},
   "source": [
    "### Getting file URIs\n",
    "\n",
    "If you know which file you are looking for, simply pass the filename. Files are tagged with a `SHA256` hash of the video uri used to create all downstream artifacts. You can either recreate the hash for the event you are looking for, or query the database for file linkage. For details on database usage, refer to the notebook example on database basics [here](./database.ipynb)."
   ]
  },
  {
   "cell_type": "code",
   "execution_count": 2,
   "metadata": {},
   "outputs": [
    {
     "data": {
      "text/plain": [
       "'https://storage.googleapis.com/stg-cdp-seattle.appspot.com/abbd14724d2a7afc8d292c3879ff9d791ac0907560ce6b4c416e45f8e54f65cb_audio.wav'"
      ]
     },
     "execution_count": 2,
     "metadata": {},
     "output_type": "execute_result"
    }
   ],
   "source": [
    "# Using a hash\n",
    "import hashlib\n",
    "key = hashlib.sha256(\"http://video.seattle.gov:8080/media/council/plan_071719_2511923V.mp4\".encode(\"utf8\")).hexdigest()\n",
    "fs.get_file_uri(f\"{key}_audio.wav\")"
   ]
  },
  {
   "cell_type": "code",
   "execution_count": 3,
   "metadata": {},
   "outputs": [
    {
     "data": {
      "text/html": [
       "<div>\n",
       "<style scoped>\n",
       "    .dataframe tbody tr th:only-of-type {\n",
       "        vertical-align: middle;\n",
       "    }\n",
       "\n",
       "    .dataframe tbody tr th {\n",
       "        vertical-align: top;\n",
       "    }\n",
       "\n",
       "    .dataframe thead th {\n",
       "        text-align: right;\n",
       "    }\n",
       "</style>\n",
       "<table border=\"1\" class=\"dataframe\">\n",
       "  <thead>\n",
       "    <tr style=\"text-align: right;\">\n",
       "      <th></th>\n",
       "      <th>content_type</th>\n",
       "      <th>created</th>\n",
       "      <th>description</th>\n",
       "      <th>file_id</th>\n",
       "      <th>filename</th>\n",
       "      <th>uri</th>\n",
       "    </tr>\n",
       "  </thead>\n",
       "  <tbody>\n",
       "    <tr>\n",
       "      <th>0</th>\n",
       "      <td>None</td>\n",
       "      <td>2019-07-20 23:48:12.019094</td>\n",
       "      <td>None</td>\n",
       "      <td>0024f4a7-2b68-4c8e-89a1-4e4eaae3724c</td>\n",
       "      <td>e0660611bf4a191296218466f64a589e054409fa40d7bc...</td>\n",
       "      <td>gs://stg-cdp-seattle.appspot.com/e0660611bf4a1...</td>\n",
       "    </tr>\n",
       "    <tr>\n",
       "      <th>1</th>\n",
       "      <td>None</td>\n",
       "      <td>2019-07-20 23:06:06.017226</td>\n",
       "      <td>None</td>\n",
       "      <td>01ef139d-b607-405e-9496-77c71b7b4a55</td>\n",
       "      <td>7cf917c2bc3ef9b3ec674776f87d4e55b83d4782c24d88...</td>\n",
       "      <td>gs://stg-cdp-seattle.appspot.com/7cf917c2bc3ef...</td>\n",
       "    </tr>\n",
       "    <tr>\n",
       "      <th>2</th>\n",
       "      <td>None</td>\n",
       "      <td>2019-07-21 00:07:41.687798</td>\n",
       "      <td>None</td>\n",
       "      <td>033bd572-1d4c-4093-853d-3ea5c4a538ef</td>\n",
       "      <td>d59ab2d3435b9c147317c1dfa4c2909068765c47b7255d...</td>\n",
       "      <td>gs://stg-cdp-seattle.appspot.com/d59ab2d3435b9...</td>\n",
       "    </tr>\n",
       "    <tr>\n",
       "      <th>3</th>\n",
       "      <td>None</td>\n",
       "      <td>2019-07-20 23:14:01.180502</td>\n",
       "      <td>None</td>\n",
       "      <td>071f6392-b763-43b2-95b7-8e57165759f5</td>\n",
       "      <td>fc52ca9f9febd50ece14f46170014936f76f3d0227688f...</td>\n",
       "      <td>gs://stg-cdp-seattle.appspot.com/fc52ca9f9febd...</td>\n",
       "    </tr>\n",
       "    <tr>\n",
       "      <th>4</th>\n",
       "      <td>None</td>\n",
       "      <td>2019-07-20 23:35:10.197880</td>\n",
       "      <td>None</td>\n",
       "      <td>097aa050-8718-43b3-b347-6d033b4a8375</td>\n",
       "      <td>528af4d034464168dc80bc7275413e6820a6d46c06e1c5...</td>\n",
       "      <td>gs://stg-cdp-seattle.appspot.com/528af4d034464...</td>\n",
       "    </tr>\n",
       "  </tbody>\n",
       "</table>\n",
       "</div>"
      ],
      "text/plain": [
       "  content_type                    created description  \\\n",
       "0         None 2019-07-20 23:48:12.019094        None   \n",
       "1         None 2019-07-20 23:06:06.017226        None   \n",
       "2         None 2019-07-21 00:07:41.687798        None   \n",
       "3         None 2019-07-20 23:14:01.180502        None   \n",
       "4         None 2019-07-20 23:35:10.197880        None   \n",
       "\n",
       "                                file_id  \\\n",
       "0  0024f4a7-2b68-4c8e-89a1-4e4eaae3724c   \n",
       "1  01ef139d-b607-405e-9496-77c71b7b4a55   \n",
       "2  033bd572-1d4c-4093-853d-3ea5c4a538ef   \n",
       "3  071f6392-b763-43b2-95b7-8e57165759f5   \n",
       "4  097aa050-8718-43b3-b347-6d033b4a8375   \n",
       "\n",
       "                                            filename  \\\n",
       "0  e0660611bf4a191296218466f64a589e054409fa40d7bc...   \n",
       "1  7cf917c2bc3ef9b3ec674776f87d4e55b83d4782c24d88...   \n",
       "2  d59ab2d3435b9c147317c1dfa4c2909068765c47b7255d...   \n",
       "3  fc52ca9f9febd50ece14f46170014936f76f3d0227688f...   \n",
       "4  528af4d034464168dc80bc7275413e6820a6d46c06e1c5...   \n",
       "\n",
       "                                                 uri  \n",
       "0  gs://stg-cdp-seattle.appspot.com/e0660611bf4a1...  \n",
       "1  gs://stg-cdp-seattle.appspot.com/7cf917c2bc3ef...  \n",
       "2  gs://stg-cdp-seattle.appspot.com/d59ab2d3435b9...  \n",
       "3  gs://stg-cdp-seattle.appspot.com/fc52ca9f9febd...  \n",
       "4  gs://stg-cdp-seattle.appspot.com/528af4d034464...  "
      ]
     },
     "execution_count": 3,
     "metadata": {},
     "output_type": "execute_result"
    }
   ],
   "source": [
    "# Using the database\n",
    "from cdptools.databases.cloud_firestore_database import CloudFirestoreDatabase\n",
    "import pandas as pd\n",
    "\n",
    "db = CloudFirestoreDatabase(\"stg-cdp-seattle\")\n",
    "files = pd.DataFrame(db.select_rows_as_list(\"file\"))\n",
    "files.head()"
   ]
  },
  {
   "cell_type": "code",
   "execution_count": 4,
   "metadata": {},
   "outputs": [
    {
     "data": {
      "text/plain": [
       "'https://storage.googleapis.com/stg-cdp-seattle.appspot.com/e0660611bf4a191296218466f64a589e054409fa40d7bc73471b2d8e431aa131_audio.out'"
      ]
     },
     "execution_count": 4,
     "metadata": {},
     "output_type": "execute_result"
    }
   ],
   "source": [
    "fs.get_file_uri(files.loc[0][\"filename\"])"
   ]
  },
  {
   "cell_type": "markdown",
   "metadata": {},
   "source": [
    "### Downloading files\n",
    "\n",
    "Unless you want to stream the data from the URI returned, it is recommended to download the file locally prior to usage.\n",
    "\n",
    "**Note:** You can optionally provide a `save_path` parameter if you don't want the file to be stored with the same name as it is stored with in the bucket."
   ]
  },
  {
   "cell_type": "code",
   "execution_count": 5,
   "metadata": {},
   "outputs": [
    {
     "data": {
      "text/plain": [
       "PosixPath('/home/maxfield/active/cdp/cdptools/examples/980177ce22091454a5ed25e8d9ab23c93b6bf19b7d8b946961e18fdbb4e5e394_ts_sentences_transcript_0.json')"
      ]
     },
     "execution_count": 5,
     "metadata": {},
     "output_type": "execute_result"
    }
   ],
   "source": [
    "# Download to local\n",
    "save_path = fs.download_file(files.loc[files[\"file_id\"] == \"0fb72a18-a43c-4820-b3a0-2ee858728981\"][\"uri\"].values[0])\n",
    "save_path"
   ]
  },
  {
   "cell_type": "markdown",
   "metadata": {},
   "source": [
    "The following code snippet reads in a transcript. CDP produced transcripts follow a specific JSON schema which you can read about in the [transcript_formats](../docs/transcript_formats.md) documentation."
   ]
  },
  {
   "cell_type": "code",
   "execution_count": 6,
   "metadata": {},
   "outputs": [
    {
     "name": "stdout",
     "output_type": "stream",
     "text": [
      "{'text': 'Good afternoon, everyone.', 'start_time': 19.4, 'end_time': 20.4}\n",
      "{'text': 'Is July the July 1st 2019 city council meeting of the Seattle City council will come to order.', 'start_time': 21.8, 'end_time': 28.5}\n",
      "{'text': \"It's 2:04 p.m.\", 'start_time': 28.5, 'end_time': 31.0}\n"
     ]
    }
   ],
   "source": [
    "# Read the transcript\n",
    "import json\n",
    "with open(save_path, \"r\") as read_in:\n",
    "    transcript = json.load(read_in)\n",
    "    for s in transcript[\"data\"][:3]:\n",
    "        print(s)"
   ]
  }
 ],
 "metadata": {
  "kernelspec": {
   "display_name": "Python 3",
   "language": "python",
   "name": "python3"
  },
  "language_info": {
   "codemirror_mode": {
    "name": "ipython",
    "version": 3
   },
   "file_extension": ".py",
   "mimetype": "text/x-python",
   "name": "python",
   "nbconvert_exporter": "python",
   "pygments_lexer": "ipython3",
   "version": "3.7.3"
  }
 },
 "nbformat": 4,
 "nbformat_minor": 4
}
