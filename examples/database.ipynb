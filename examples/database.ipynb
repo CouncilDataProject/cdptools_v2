{
 "cells": [
  {
   "cell_type": "markdown",
   "metadata": {},
   "source": [
    "# Using CDP Databases\n",
    "Methods for retrieving open access data.\n",
    "\n",
    "A database schema diagram for production instances of CDP may be found [here](https://github.com/CouncilDataProject/cdptools/blob/master/docs/resources/database_diagram.pdf)."
   ]
  },
  {
   "cell_type": "markdown",
   "metadata": {},
   "source": [
    "### Connecting to the database\n",
    "\n",
    "CDP Seattle uses Firebase's 'Cloud Firestore' to store our data. However, a properly setup database host and associated database module _should_ have the same functionality.\n",
    "\n",
    "Here is how to connect to the Seattle database for **read only** operations.\n",
    "\n",
    "**Note:** This notebook connects to the staging instance of Seattle's Firestore database. To use production data, connect to `cdp-seattle`."
   ]
  },
  {
   "cell_type": "code",
   "execution_count": 1,
   "metadata": {},
   "outputs": [
    {
     "data": {
      "text/plain": [
       "<CloudFirestoreDatabase [stg-cdp-seattle]>"
      ]
     },
     "execution_count": 1,
     "metadata": {},
     "output_type": "execute_result"
    }
   ],
   "source": [
    "from cdptools.databases.cloud_firestore_database import CloudFirestoreDatabase\n",
    "\n",
    "db = CloudFirestoreDatabase(\"stg-cdp-seattle\")\n",
    "db"
   ]
  },
  {
   "cell_type": "markdown",
   "metadata": {},
   "source": [
    "### Retrieving a single item\n",
    "If you know the id of an item in a table, please use the `select_row_by_id` function provided."
   ]
  },
  {
   "cell_type": "code",
   "execution_count": 2,
   "metadata": {},
   "outputs": [
    {
     "data": {
      "text/plain": [
       "{'event_id': '35dd5e95-c233-493c-b830-07c95d84293a',\n",
       " 'source_uri': 'http://www.seattlechannel.org/mayor-and-council/city-council/seattle-park-district-board?videoid=x92993',\n",
       " 'video_uri': 'http://video.seattle.gov:8080/media/council/parkdist_062518V.mp4',\n",
       " 'created': datetime.datetime(2019, 5, 31, 6, 25, 53, 975500),\n",
       " 'event_datetime': datetime.datetime(2018, 6, 25, 0, 0),\n",
       " 'body_id': 'f6f1dd25-a842-4874-a2eb-8104599b5fc8'}"
      ]
     },
     "execution_count": 2,
     "metadata": {},
     "output_type": "execute_result"
    }
   ],
   "source": [
    "event = db.select_row_by_id(table=\"event\", id=\"35dd5e95-c233-493c-b830-07c95d84293a\")\n",
    "event"
   ]
  },
  {
   "cell_type": "markdown",
   "metadata": {},
   "source": [
    "### Retrieving many items from a table\n",
    "\n",
    "You may not know the id's of items you are looking for. In that case, use the `select_rows_as_list` function provided."
   ]
  },
  {
   "cell_type": "code",
   "execution_count": 3,
   "metadata": {},
   "outputs": [
    {
     "data": {
      "text/plain": [
       "{'event_id': '35dd5e95-c233-493c-b830-07c95d84293a',\n",
       " 'video_uri': 'http://video.seattle.gov:8080/media/council/parkdist_062518V.mp4',\n",
       " 'created': datetime.datetime(2019, 5, 31, 6, 25, 53, 975500),\n",
       " 'event_datetime': datetime.datetime(2018, 6, 25, 0, 0),\n",
       " 'body_id': 'f6f1dd25-a842-4874-a2eb-8104599b5fc8',\n",
       " 'source_uri': 'http://www.seattlechannel.org/mayor-and-council/city-council/seattle-park-district-board?videoid=x92993'}"
      ]
     },
     "execution_count": 3,
     "metadata": {},
     "output_type": "execute_result"
    }
   ],
   "source": [
    "events = db.select_rows_as_list(table=\"event\")\n",
    "events[0]"
   ]
  },
  {
   "cell_type": "markdown",
   "metadata": {},
   "source": [
    "### Joining with other tables\n",
    "\n",
    "In the above event results, notice that a `body_id` is returned for each event. To attach body details to this we can use the python package `pandas` and query the `body` table. Let's first put each of the query results into `pandas.DataFrame` objects."
   ]
  },
  {
   "cell_type": "code",
   "execution_count": 4,
   "metadata": {},
   "outputs": [],
   "source": [
    "import pandas as pd"
   ]
  },
  {
   "cell_type": "code",
   "execution_count": 5,
   "metadata": {},
   "outputs": [
    {
     "data": {
      "text/html": [
       "<div>\n",
       "<style scoped>\n",
       "    .dataframe tbody tr th:only-of-type {\n",
       "        vertical-align: middle;\n",
       "    }\n",
       "\n",
       "    .dataframe tbody tr th {\n",
       "        vertical-align: top;\n",
       "    }\n",
       "\n",
       "    .dataframe thead th {\n",
       "        text-align: right;\n",
       "    }\n",
       "</style>\n",
       "<table border=\"1\" class=\"dataframe\">\n",
       "  <thead>\n",
       "    <tr style=\"text-align: right;\">\n",
       "      <th></th>\n",
       "      <th>body_id</th>\n",
       "      <th>created</th>\n",
       "      <th>event_datetime</th>\n",
       "      <th>event_id</th>\n",
       "      <th>source_uri</th>\n",
       "      <th>video_uri</th>\n",
       "    </tr>\n",
       "  </thead>\n",
       "  <tbody>\n",
       "    <tr>\n",
       "      <th>0</th>\n",
       "      <td>f6f1dd25-a842-4874-a2eb-8104599b5fc8</td>\n",
       "      <td>2019-05-31 06:25:53.975500</td>\n",
       "      <td>2018-06-25</td>\n",
       "      <td>35dd5e95-c233-493c-b830-07c95d84293a</td>\n",
       "      <td>http://www.seattlechannel.org/mayor-and-counci...</td>\n",
       "      <td>http://video.seattle.gov:8080/media/council/pa...</td>\n",
       "    </tr>\n",
       "    <tr>\n",
       "      <th>1</th>\n",
       "      <td>da09c03b-e820-4002-b9a7-bdf777d9fa1d</td>\n",
       "      <td>2019-05-31 06:42:07.366939</td>\n",
       "      <td>2019-01-22</td>\n",
       "      <td>6893c187-da0d-429d-8116-e0343b7066cf</td>\n",
       "      <td>http://www.seattlechannel.org/FullCouncil?vide...</td>\n",
       "      <td>http://video.seattle.gov:8080/media/council/co...</td>\n",
       "    </tr>\n",
       "  </tbody>\n",
       "</table>\n",
       "</div>"
      ],
      "text/plain": [
       "                                body_id                    created  \\\n",
       "0  f6f1dd25-a842-4874-a2eb-8104599b5fc8 2019-05-31 06:25:53.975500   \n",
       "1  da09c03b-e820-4002-b9a7-bdf777d9fa1d 2019-05-31 06:42:07.366939   \n",
       "\n",
       "  event_datetime                              event_id  \\\n",
       "0     2018-06-25  35dd5e95-c233-493c-b830-07c95d84293a   \n",
       "1     2019-01-22  6893c187-da0d-429d-8116-e0343b7066cf   \n",
       "\n",
       "                                          source_uri  \\\n",
       "0  http://www.seattlechannel.org/mayor-and-counci...   \n",
       "1  http://www.seattlechannel.org/FullCouncil?vide...   \n",
       "\n",
       "                                           video_uri  \n",
       "0  http://video.seattle.gov:8080/media/council/pa...  \n",
       "1  http://video.seattle.gov:8080/media/council/co...  "
      ]
     },
     "execution_count": 5,
     "metadata": {},
     "output_type": "execute_result"
    }
   ],
   "source": [
    "events = pd.DataFrame(events)\n",
    "events.head()"
   ]
  },
  {
   "cell_type": "code",
   "execution_count": 6,
   "metadata": {},
   "outputs": [
    {
     "data": {
      "text/html": [
       "<div>\n",
       "<style scoped>\n",
       "    .dataframe tbody tr th:only-of-type {\n",
       "        vertical-align: middle;\n",
       "    }\n",
       "\n",
       "    .dataframe tbody tr th {\n",
       "        vertical-align: top;\n",
       "    }\n",
       "\n",
       "    .dataframe thead th {\n",
       "        text-align: right;\n",
       "    }\n",
       "</style>\n",
       "<table border=\"1\" class=\"dataframe\">\n",
       "  <thead>\n",
       "    <tr style=\"text-align: right;\">\n",
       "      <th></th>\n",
       "      <th>body_id</th>\n",
       "      <th>created</th>\n",
       "      <th>description</th>\n",
       "      <th>name</th>\n",
       "    </tr>\n",
       "  </thead>\n",
       "  <tbody>\n",
       "    <tr>\n",
       "      <th>0</th>\n",
       "      <td>02330e27-2a6e-4de6-bf70-7c05fcb268df</td>\n",
       "      <td>2019-05-31 05:53:37.328200</td>\n",
       "      <td>None</td>\n",
       "      <td>Full Council</td>\n",
       "    </tr>\n",
       "    <tr>\n",
       "      <th>1</th>\n",
       "      <td>42a6b9df-aa42-45c5-9991-9cf445517bb2</td>\n",
       "      <td>2019-05-16 18:39:11.235766</td>\n",
       "      <td>None</td>\n",
       "      <td>Central Waterfront, Seawall, and Alaskan Way V...</td>\n",
       "    </tr>\n",
       "    <tr>\n",
       "      <th>2</th>\n",
       "      <td>8f23cb96-200c-4fb0-ad5d-4a0213f7f4ac</td>\n",
       "      <td>2019-05-16 18:34:06.156169</td>\n",
       "      <td>None</td>\n",
       "      <td>Education and Governance Committee</td>\n",
       "    </tr>\n",
       "    <tr>\n",
       "      <th>3</th>\n",
       "      <td>b7c392fd-7580-41cf-a25b-6b9419ad9266</td>\n",
       "      <td>2019-05-16 18:46:27.182217</td>\n",
       "      <td>None</td>\n",
       "      <td>Planning, Land Use, and Zoning Committee</td>\n",
       "    </tr>\n",
       "    <tr>\n",
       "      <th>4</th>\n",
       "      <td>da09c03b-e820-4002-b9a7-bdf777d9fa1d</td>\n",
       "      <td>2019-05-31 06:42:07.101987</td>\n",
       "      <td>None</td>\n",
       "      <td>City Council</td>\n",
       "    </tr>\n",
       "  </tbody>\n",
       "</table>\n",
       "</div>"
      ],
      "text/plain": [
       "                                body_id                    created  \\\n",
       "0  02330e27-2a6e-4de6-bf70-7c05fcb268df 2019-05-31 05:53:37.328200   \n",
       "1  42a6b9df-aa42-45c5-9991-9cf445517bb2 2019-05-16 18:39:11.235766   \n",
       "2  8f23cb96-200c-4fb0-ad5d-4a0213f7f4ac 2019-05-16 18:34:06.156169   \n",
       "3  b7c392fd-7580-41cf-a25b-6b9419ad9266 2019-05-16 18:46:27.182217   \n",
       "4  da09c03b-e820-4002-b9a7-bdf777d9fa1d 2019-05-31 06:42:07.101987   \n",
       "\n",
       "  description                                               name  \n",
       "0        None                                       Full Council  \n",
       "1        None  Central Waterfront, Seawall, and Alaskan Way V...  \n",
       "2        None                 Education and Governance Committee  \n",
       "3        None           Planning, Land Use, and Zoning Committee  \n",
       "4        None                                       City Council  "
      ]
     },
     "execution_count": 6,
     "metadata": {},
     "output_type": "execute_result"
    }
   ],
   "source": [
    "bodies = db.select_rows_as_list(\"body\")\n",
    "bodies = pd.DataFrame(bodies)\n",
    "bodies.head()"
   ]
  },
  {
   "cell_type": "code",
   "execution_count": 7,
   "metadata": {},
   "outputs": [
    {
     "data": {
      "text/html": [
       "<div>\n",
       "<style scoped>\n",
       "    .dataframe tbody tr th:only-of-type {\n",
       "        vertical-align: middle;\n",
       "    }\n",
       "\n",
       "    .dataframe tbody tr th {\n",
       "        vertical-align: top;\n",
       "    }\n",
       "\n",
       "    .dataframe thead th {\n",
       "        text-align: right;\n",
       "    }\n",
       "</style>\n",
       "<table border=\"1\" class=\"dataframe\">\n",
       "  <thead>\n",
       "    <tr style=\"text-align: right;\">\n",
       "      <th></th>\n",
       "      <th>body_id</th>\n",
       "      <th>created_event</th>\n",
       "      <th>event_datetime</th>\n",
       "      <th>event_id</th>\n",
       "      <th>source_uri</th>\n",
       "      <th>video_uri</th>\n",
       "      <th>created_body</th>\n",
       "      <th>description</th>\n",
       "      <th>name</th>\n",
       "    </tr>\n",
       "  </thead>\n",
       "  <tbody>\n",
       "    <tr>\n",
       "      <th>0</th>\n",
       "      <td>f6f1dd25-a842-4874-a2eb-8104599b5fc8</td>\n",
       "      <td>2019-05-31 06:25:53.975500</td>\n",
       "      <td>2018-06-25</td>\n",
       "      <td>35dd5e95-c233-493c-b830-07c95d84293a</td>\n",
       "      <td>http://www.seattlechannel.org/mayor-and-counci...</td>\n",
       "      <td>http://video.seattle.gov:8080/media/council/pa...</td>\n",
       "      <td>2019-05-31 06:25:53.735517</td>\n",
       "      <td>None</td>\n",
       "      <td>Seattle Park District Board Meeting</td>\n",
       "    </tr>\n",
       "    <tr>\n",
       "      <th>1</th>\n",
       "      <td>da09c03b-e820-4002-b9a7-bdf777d9fa1d</td>\n",
       "      <td>2019-05-31 06:42:07.366939</td>\n",
       "      <td>2019-01-22</td>\n",
       "      <td>6893c187-da0d-429d-8116-e0343b7066cf</td>\n",
       "      <td>http://www.seattlechannel.org/FullCouncil?vide...</td>\n",
       "      <td>http://video.seattle.gov:8080/media/council/co...</td>\n",
       "      <td>2019-05-31 06:42:07.101987</td>\n",
       "      <td>None</td>\n",
       "      <td>City Council</td>\n",
       "    </tr>\n",
       "  </tbody>\n",
       "</table>\n",
       "</div>"
      ],
      "text/plain": [
       "                                body_id              created_event  \\\n",
       "0  f6f1dd25-a842-4874-a2eb-8104599b5fc8 2019-05-31 06:25:53.975500   \n",
       "1  da09c03b-e820-4002-b9a7-bdf777d9fa1d 2019-05-31 06:42:07.366939   \n",
       "\n",
       "  event_datetime                              event_id  \\\n",
       "0     2018-06-25  35dd5e95-c233-493c-b830-07c95d84293a   \n",
       "1     2019-01-22  6893c187-da0d-429d-8116-e0343b7066cf   \n",
       "\n",
       "                                          source_uri  \\\n",
       "0  http://www.seattlechannel.org/mayor-and-counci...   \n",
       "1  http://www.seattlechannel.org/FullCouncil?vide...   \n",
       "\n",
       "                                           video_uri  \\\n",
       "0  http://video.seattle.gov:8080/media/council/pa...   \n",
       "1  http://video.seattle.gov:8080/media/council/co...   \n",
       "\n",
       "                created_body description                                 name  \n",
       "0 2019-05-31 06:25:53.735517        None  Seattle Park District Board Meeting  \n",
       "1 2019-05-31 06:42:07.101987        None                         City Council  "
      ]
     },
     "execution_count": 7,
     "metadata": {},
     "output_type": "execute_result"
    }
   ],
   "source": [
    "expanded_event_details = events.merge(bodies, left_on=\"body_id\", right_on=\"body_id\", suffixes=(\"_event\", \"_body\"))\n",
    "expanded_event_details.head()"
   ]
  },
  {
   "cell_type": "markdown",
   "metadata": {},
   "source": [
    "`left_on` refers to the column name in the dataframe calling the operation.\n",
    "In this case, the column to merge on is `body_id` in the events results.\n",
    "\n",
    "Similarly, `right_on` refers to the column name in the dataframe to be passed to the operation.\n",
    "In this case, the column to merge on is `id` in the bodies results.\n",
    "\n",
    "`suffixes` is a tuple to use for adding suffixes to any columns with the same name between the two dataframes.\n",
    "Commonly for CDP query results, these are columns such as `created`, which provide a `datetime` value for when that row was stored in the database.\n",
    "\n",
    "Please refer to `pandas.DataFrame.merge` documentation for more details.\n",
    "\n",
    "[reference](https://pandas.pydata.org/pandas-docs/stable/reference/api/pandas.DataFrame.merge.html#pandas.DataFrame.merge)"
   ]
  },
  {
   "cell_type": "markdown",
   "metadata": {},
   "source": [
    "### Filtering\n",
    "\n",
    "You may notice that the function: `select_rows_as_list` allows for additional parameters to be passed: `filters`, `order_by`, and `limit`. Unfortunately, at this time, `filters` is not available for the open access portions of the API. So while you can provide them to the function, they are not actually used. Because of this, you must do filtering on your end. Fortunately however, `pandas` works well for these types of operations.\n",
    "\n",
    "[stackoverflow](https://stackoverflow.com/questions/17071871/select-rows-from-a-dataframe-based-on-values-in-a-column-in-pandas)"
   ]
  },
  {
   "cell_type": "code",
   "execution_count": 8,
   "metadata": {},
   "outputs": [
    {
     "data": {
      "text/html": [
       "<div>\n",
       "<style scoped>\n",
       "    .dataframe tbody tr th:only-of-type {\n",
       "        vertical-align: middle;\n",
       "    }\n",
       "\n",
       "    .dataframe tbody tr th {\n",
       "        vertical-align: top;\n",
       "    }\n",
       "\n",
       "    .dataframe thead th {\n",
       "        text-align: right;\n",
       "    }\n",
       "</style>\n",
       "<table border=\"1\" class=\"dataframe\">\n",
       "  <thead>\n",
       "    <tr style=\"text-align: right;\">\n",
       "      <th></th>\n",
       "      <th>body_id</th>\n",
       "      <th>created_event</th>\n",
       "      <th>event_datetime</th>\n",
       "      <th>event_id</th>\n",
       "      <th>source_uri</th>\n",
       "      <th>video_uri</th>\n",
       "      <th>created_body</th>\n",
       "      <th>description</th>\n",
       "      <th>name</th>\n",
       "    </tr>\n",
       "  </thead>\n",
       "  <tbody>\n",
       "    <tr>\n",
       "      <th>0</th>\n",
       "      <td>f6f1dd25-a842-4874-a2eb-8104599b5fc8</td>\n",
       "      <td>2019-05-31 06:25:53.975500</td>\n",
       "      <td>2018-06-25</td>\n",
       "      <td>35dd5e95-c233-493c-b830-07c95d84293a</td>\n",
       "      <td>http://www.seattlechannel.org/mayor-and-counci...</td>\n",
       "      <td>http://video.seattle.gov:8080/media/council/pa...</td>\n",
       "      <td>2019-05-31 06:25:53.735517</td>\n",
       "      <td>None</td>\n",
       "      <td>Seattle Park District Board Meeting</td>\n",
       "    </tr>\n",
       "  </tbody>\n",
       "</table>\n",
       "</div>"
      ],
      "text/plain": [
       "                                body_id              created_event  \\\n",
       "0  f6f1dd25-a842-4874-a2eb-8104599b5fc8 2019-05-31 06:25:53.975500   \n",
       "\n",
       "  event_datetime                              event_id  \\\n",
       "0     2018-06-25  35dd5e95-c233-493c-b830-07c95d84293a   \n",
       "\n",
       "                                          source_uri  \\\n",
       "0  http://www.seattlechannel.org/mayor-and-counci...   \n",
       "\n",
       "                                           video_uri  \\\n",
       "0  http://video.seattle.gov:8080/media/council/pa...   \n",
       "\n",
       "                created_body description                                 name  \n",
       "0 2019-05-31 06:25:53.735517        None  Seattle Park District Board Meeting  "
      ]
     },
     "execution_count": 8,
     "metadata": {},
     "output_type": "execute_result"
    }
   ],
   "source": [
    "parks = \"Seattle Park District Board Meeting\"\n",
    "parks_events = expanded_event_details.loc[expanded_event_details[\"name\"] == parks]\n",
    "parks_events"
   ]
  }
 ],
 "metadata": {
  "kernelspec": {
   "display_name": "Python 3",
   "language": "python",
   "name": "python3"
  },
  "language_info": {
   "codemirror_mode": {
    "name": "ipython",
    "version": 3
   },
   "file_extension": ".py",
   "mimetype": "text/x-python",
   "name": "python",
   "nbconvert_exporter": "python",
   "pygments_lexer": "ipython3",
   "version": "3.7.3"
  }
 },
 "nbformat": 4,
 "nbformat_minor": 2
}
