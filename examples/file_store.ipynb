{
 "cells": [
  {
   "cell_type": "markdown",
   "metadata": {},
   "source": [
    "# Using CDP File Stores\n",
    "\n",
    "Methods for retrieving open access data."
   ]
  },
  {
   "cell_type": "markdown",
   "metadata": {},
   "source": [
    "### Connecting to the file store\n",
    "\n",
    "CDP Seattle uses Google Cloud Storage, specifically a storage bucket tied to our database to store our files. However, a properly setup file storage host and associated file store module _should_ have the same functionality.\n",
    "\n",
    "Here is how to connect to the Seattle file store for **read only** operations.\n",
    "\n",
    "**Note:** This notebook connects to the staging instance of Seattle's GCS storage. To use production data connect to `cdp-seattle.appspot.com`."
   ]
  },
  {
   "cell_type": "code",
   "execution_count": 1,
   "metadata": {},
   "outputs": [
    {
     "data": {
      "text/plain": [
       "<GCSFileStore [stg-cdp-seattle.appspot.com]>"
      ]
     },
     "execution_count": 1,
     "metadata": {},
     "output_type": "execute_result"
    }
   ],
   "source": [
    "from cdptools.file_stores.gcs_file_store import GCSFileStore\n",
    "\n",
    "fs = GCSFileStore(\"stg-cdp-seattle.appspot.com\")\n",
    "fs"
   ]
  },
  {
   "cell_type": "markdown",
   "metadata": {},
   "source": [
    "### Getting file URIs\n",
    "\n",
    "If you know which file you are looking for, simply pass the filename. Files are tagged with a `SHA256` hash of the video uri used to create all downstream artifacts. You can either recreate the hash for the event you are looking for, or query the database for file linkage. For details on database usage, refer to the notebook example on database basics [here](./database.ipynb)."
   ]
  },
  {
   "cell_type": "code",
   "execution_count": 2,
   "metadata": {},
   "outputs": [
    {
     "data": {
      "text/plain": [
       "'https://storage.googleapis.com/stg-cdp-seattle.appspot.com/194ba87bfce105fce73ad52e2d29b1b399d0a12079058133ebb5576daa9254c8_audio.wav'"
      ]
     },
     "execution_count": 2,
     "metadata": {},
     "output_type": "execute_result"
    }
   ],
   "source": [
    "# Using a hash\n",
    "import hashlib\n",
    "key = hashlib.sha256(\"http://video.seattle.gov:8080/media/council/hum_061119_2591921V.mp4\".encode(\"utf8\")).hexdigest()\n",
    "fs.get_file_uri(f\"{key}_audio.wav\")"
   ]
  },
  {
   "cell_type": "code",
   "execution_count": 3,
   "metadata": {},
   "outputs": [
    {
     "data": {
      "text/plain": [
       "'https://storage.googleapis.com/stg-cdp-seattle.appspot.com/3dc758dd6438882ca2e4cbe51a168b69a0ac58b002dbfe30924cc0387d44c83f_ts_words_transcript_0.txt'"
      ]
     },
     "execution_count": 3,
     "metadata": {},
     "output_type": "execute_result"
    }
   ],
   "source": [
    "# Using the database\n",
    "from cdptools.databases.cloud_firestore_database import CloudFirestoreDatabase\n",
    "import pandas as pd\n",
    "\n",
    "db = CloudFirestoreDatabase(\"stg-cdp-seattle\")\n",
    "files = pd.DataFrame(db.select_rows_as_list(\"file\"))\n",
    "fs.get_file_uri(files.loc[0][\"filename\"])"
   ]
  },
  {
   "cell_type": "markdown",
   "metadata": {},
   "source": [
    "### Downloading files\n",
    "\n",
    "Unless you want to stream the data from the URI returned, it is recommended to download the file locally prior to usage.\n",
    "\n",
    "**Note:** You can optionally provide a `save_path` parameter if you don't want the file to be stored with the same name as it is stored with in the bucket."
   ]
  },
  {
   "cell_type": "code",
   "execution_count": 4,
   "metadata": {},
   "outputs": [
    {
     "data": {
      "text/plain": [
       "PosixPath('/home/maxfield/active/cdp/cdptools/examples/cee27aca34b4e27f66dde5e7e0c901b600f35a3e209b61fd35e04bd8cc4f311b_ts_sentences_transcript_0.txt')"
      ]
     },
     "execution_count": 4,
     "metadata": {},
     "output_type": "execute_result"
    }
   ],
   "source": [
    "# Download to local\n",
    "save_path = fs.download_file(files.loc[files[\"file_id\"] == \"03e9b46f-d7d4-4bd0-888e-4d2d0cbc2ce3\"][\"uri\"].values[0])\n",
    "save_path"
   ]
  },
  {
   "cell_type": "code",
   "execution_count": 5,
   "metadata": {},
   "outputs": [
    {
     "name": "stdout",
     "output_type": "stream",
     "text": [
      "{'sentence': 'Good morning, and welcome to the June 11th meeting of the Civil Rights utilities economic development in our committee.', 'start_time': 15.7, 'end_time': 22.3}\n",
      "{'sentence': 'I am Lisa herbold the chair of the committee and council member representing West Seattle and South Park district one.', 'start_time': 22.3, 'end_time': 28.8}\n",
      "{'sentence': 'It is 9:37 a.m.', 'start_time': 28.8, 'end_time': 31.0}\n"
     ]
    }
   ],
   "source": [
    "# Read the transcript\n",
    "import json\n",
    "with open(save_path, \"r\") as read_in:\n",
    "    sentences = json.load(read_in)\n",
    "    for s in sentences[:3]:\n",
    "        print(s)"
   ]
  }
 ],
 "metadata": {
  "kernelspec": {
   "display_name": "Python 3",
   "language": "python",
   "name": "python3"
  },
  "language_info": {
   "codemirror_mode": {
    "name": "ipython",
    "version": 3
   },
   "file_extension": ".py",
   "mimetype": "text/x-python",
   "name": "python",
   "nbconvert_exporter": "python",
   "pygments_lexer": "ipython3",
   "version": "3.7.3"
  }
 },
 "nbformat": 4,
 "nbformat_minor": 4
}
