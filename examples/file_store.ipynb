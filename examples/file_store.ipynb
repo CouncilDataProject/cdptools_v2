{
 "cells": [
  {
   "cell_type": "markdown",
   "metadata": {},
   "source": [
    "# Using CDP File Stores\n",
    "\n",
    "Methods for retrieving open access data."
   ]
  },
  {
   "cell_type": "markdown",
   "metadata": {},
   "source": [
    "### Connecting to the file store\n",
    "\n",
    "CDP Seattle uses Google Cloud Storage, specifically a storage bucket tied to our database to store our files. However, a properly setup file storage host and associated file store module _should_ have the same functionality.\n",
    "\n",
    "Here is how to connect to the Seattle file store for **read only** operations.\n",
    "\n",
    "**Note:** This notebook connects to the staging instance of Seattle's GCS storage. To use production data connect to `cdp-seattle.appspot.com`."
   ]
  },
  {
   "cell_type": "code",
   "execution_count": 1,
   "metadata": {},
   "outputs": [
    {
     "data": {
      "text/plain": [
       "<GCSFileStore [stg-cdp-seattle.appspot.com]>"
      ]
     },
     "execution_count": 1,
     "metadata": {},
     "output_type": "execute_result"
    }
   ],
   "source": [
    "from cdptools.file_stores.gcs_file_store import GCSFileStore\n",
    "\n",
    "fs = GCSFileStore(\"stg-cdp-seattle.appspot.com\")\n",
    "fs"
   ]
  },
  {
   "cell_type": "markdown",
   "metadata": {},
   "source": [
    "### Getting file URIs\n",
    "\n",
    "If you know which file you are looking for, simply pass the filename. Files are tagged with a `SHA256` hash of the video uri used to create all downstream artifacts. You can either recreate the hash for the event you are looking for, or query the database for file linkage. For details on database usage, refer to the notebook example on database basics [here](./database.ipynb)."
   ]
  },
  {
   "cell_type": "code",
   "execution_count": 2,
   "metadata": {},
   "outputs": [
    {
     "data": {
      "text/plain": [
       "'https://storage.googleapis.com/stg-cdp-seattle.appspot.com/52d797171b74b68246b4ad0f2c4131c125c3a9338688eaf83109ae719fff2bee_audio.wav'"
      ]
     },
     "execution_count": 2,
     "metadata": {},
     "output_type": "execute_result"
    }
   ],
   "source": [
    "# Using a hash\n",
    "import hashlib\n",
    "key = hashlib.sha256(\"http://video.seattle.gov:8080/media/council/gen_062717V.mp4\".encode(\"utf8\")).hexdigest()\n",
    "fs.get_file_uri(f\"{key}_audio.wav\")"
   ]
  },
  {
   "cell_type": "code",
   "execution_count": 3,
   "metadata": {},
   "outputs": [
    {
     "data": {
      "text/plain": [
       "'https://storage.googleapis.com/stg-cdp-seattle.appspot.com/165f1f333b3607748d8beca97e59a6b273fde4e2cf7b577f0f1b2fab631952a2_transcript_0.txt'"
      ]
     },
     "execution_count": 3,
     "metadata": {},
     "output_type": "execute_result"
    }
   ],
   "source": [
    "# Using the database\n",
    "from cdptools.databases.cloud_firestore_database import CloudFirestoreDatabase\n",
    "import pandas as pd\n",
    "\n",
    "db = CloudFirestoreDatabase(\"stg-cdp-seattle\")\n",
    "files = pd.DataFrame(db.select_rows_as_list(\"file\"))\n",
    "fs.get_file_uri(files.loc[0][\"filename\"])"
   ]
  },
  {
   "cell_type": "markdown",
   "metadata": {},
   "source": [
    "### Downloading files\n",
    "\n",
    "Unless you want to stream the data from the URI returned, it is recommended to download the file locally prior to usage.\n",
    "\n",
    "**Note:** You can optionally provide a `save_path` parameter if you don't want the file to be stored with the same name as it is stored with in the bucket."
   ]
  },
  {
   "cell_type": "code",
   "execution_count": 4,
   "metadata": {},
   "outputs": [
    {
     "name": "stderr",
     "output_type": "stream",
     "text": [
      "[INFO: file_store:  54 2019-04-24 18:52:49,219] Stored external resource copy: /Users/jacksonb/Desktop/active/cdp/cdptools/examples/eb448680c9c0cd7132d91b70a36d1a1c9f6bf7bc5eb14811cc5abc68f78d2894_transcript_0.txt\n"
     ]
    },
    {
     "data": {
      "text/plain": [
       "PosixPath('/Users/jacksonb/Desktop/active/cdp/cdptools/examples/eb448680c9c0cd7132d91b70a36d1a1c9f6bf7bc5eb14811cc5abc68f78d2894_transcript_0.txt')"
      ]
     },
     "execution_count": 4,
     "metadata": {},
     "output_type": "execute_result"
    }
   ],
   "source": [
    "# Download to local\n",
    "save_path = fs.download_file(files.loc[21][\"filename\"])\n",
    "save_path"
   ]
  },
  {
   "cell_type": "code",
   "execution_count": 5,
   "metadata": {},
   "outputs": [
    {
     "name": "stdout",
     "output_type": "stream",
     "text": [
      "Greetings, welcome to the Civil Rights utilities economic development in arts committee. This is our December 13th meeting and we are getting started at 9:37 a.m. On today's agenda will be starting out as we do each month with a poetry reading with Wordsworth followed by public comment. Then we have several appointments to the Seattle music commission followed by appointments as well to the Seattle Human Rights Commission, and the people with disabilities commission and then an ordinance changin\n"
     ]
    }
   ],
   "source": [
    "# Read the transcript\n",
    "with open(save_path, \"r\") as read_in:\n",
    "    print(read_in.read()[:500])"
   ]
  }
 ],
 "metadata": {
  "kernelspec": {
   "display_name": "Python 3",
   "language": "python",
   "name": "python3"
  },
  "language_info": {
   "codemirror_mode": {
    "name": "ipython",
    "version": 3
   },
   "file_extension": ".py",
   "mimetype": "text/x-python",
   "name": "python",
   "nbconvert_exporter": "python",
   "pygments_lexer": "ipython3",
   "version": "3.7.3"
  }
 },
 "nbformat": 4,
 "nbformat_minor": 2
}
