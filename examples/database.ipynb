{
 "cells": [
  {
   "cell_type": "markdown",
   "metadata": {},
   "source": [
    "# Using CDP Databases\n",
    "Methods for retrieving open access data.\n",
    "\n",
    "A database schema diagram for production instances of CDP may be found [here](https://github.com/CouncilDataProject/cdptools/blob/master/docs/resources/database_diagram.pdf)."
   ]
  },
  {
   "cell_type": "markdown",
   "metadata": {},
   "source": [
    "### Connecting to the database\n",
    "\n",
    "CDP Seattle uses Firebase's 'Cloud Firestore' to store our data. However, a properly setup database host and associated database module _should_ have the same functionality.\n",
    "\n",
    "Here is how to connect to the Seattle database for **read only** operations.\n",
    "\n",
    "**Note:** This notebook connects to the staging instance of Seattle's Firestore database. To use production data, connect to `cdp-seattle`."
   ]
  },
  {
   "cell_type": "code",
   "execution_count": 1,
   "metadata": {},
   "outputs": [
    {
     "data": {
      "text/plain": [
       "<CloudFirestoreDatabase [stg-cdp-seattle]>"
      ]
     },
     "execution_count": 1,
     "metadata": {},
     "output_type": "execute_result"
    }
   ],
   "source": [
    "from cdptools.databases.cloud_firestore_database import CloudFirestoreDatabase\n",
    "\n",
    "db = CloudFirestoreDatabase(\"stg-cdp-seattle\")\n",
    "db"
   ]
  },
  {
   "cell_type": "markdown",
   "metadata": {},
   "source": [
    "### Retrieving a single item\n",
    "If you know the id of an item in a table, please use the `select_row_by_id` function provided."
   ]
  },
  {
   "cell_type": "code",
   "execution_count": 2,
   "metadata": {},
   "outputs": [
    {
     "data": {
      "text/plain": [
       "{'event_id': '0e3bd59c-3f07-452c-83cf-e9eebeb73af2',\n",
       " 'video_uri': 'http://video.seattle.gov:8080/media/council/gen_062717V.mp4',\n",
       " 'created': datetime.datetime(2019, 4, 21, 23, 58, 4, 832481),\n",
       " 'event_datetime': '2017-06-27T00:00:00',\n",
       " 'body_id': '6f38a688-2e96-4e33-841c-883738f9f03d',\n",
       " 'source_uri': 'http://www.seattlechannel.org/mayor-and-council/city-council/2016/2017-gender-equity-safe-communities-and-new-americans-committee?videoid=x78448'}"
      ]
     },
     "execution_count": 2,
     "metadata": {},
     "output_type": "execute_result"
    }
   ],
   "source": [
    "event = db.select_row_by_id(table=\"event\", id=\"0e3bd59c-3f07-452c-83cf-e9eebeb73af2\")\n",
    "event"
   ]
  },
  {
   "cell_type": "markdown",
   "metadata": {},
   "source": [
    "### Retrieving many items from a table\n",
    "\n",
    "You may not know the id's of items you are looking for. In that case, use the `select_rows_as_list` function provided."
   ]
  },
  {
   "cell_type": "code",
   "execution_count": 3,
   "metadata": {},
   "outputs": [
    {
     "data": {
      "text/plain": [
       "{'event_id': '0e3bd59c-3f07-452c-83cf-e9eebeb73af2',\n",
       " 'source_uri': 'http://www.seattlechannel.org/mayor-and-council/city-council/2016/2017-gender-equity-safe-communities-and-new-americans-committee?videoid=x78448',\n",
       " 'video_uri': 'http://video.seattle.gov:8080/media/council/gen_062717V.mp4',\n",
       " 'created': datetime.datetime(2019, 4, 21, 23, 58, 4, 832481),\n",
       " 'event_datetime': '2017-06-27T00:00:00',\n",
       " 'body_id': '6f38a688-2e96-4e33-841c-883738f9f03d'}"
      ]
     },
     "execution_count": 3,
     "metadata": {},
     "output_type": "execute_result"
    }
   ],
   "source": [
    "events = db.select_rows_as_list(table=\"event\")\n",
    "events[0]"
   ]
  },
  {
   "cell_type": "markdown",
   "metadata": {},
   "source": [
    "### Joining with other tables\n",
    "\n",
    "In the above event results, notice that a `body_id` is returned for each event. To attach body details to this we can use the python package `pandas` and query the `body` table. Let's first put each of the query results into `pandas.DataFrame` objects."
   ]
  },
  {
   "cell_type": "code",
   "execution_count": 4,
   "metadata": {},
   "outputs": [],
   "source": [
    "import pandas as pd"
   ]
  },
  {
   "cell_type": "code",
   "execution_count": 5,
   "metadata": {},
   "outputs": [
    {
     "data": {
      "text/html": [
       "<div>\n",
       "<style scoped>\n",
       "    .dataframe tbody tr th:only-of-type {\n",
       "        vertical-align: middle;\n",
       "    }\n",
       "\n",
       "    .dataframe tbody tr th {\n",
       "        vertical-align: top;\n",
       "    }\n",
       "\n",
       "    .dataframe thead th {\n",
       "        text-align: right;\n",
       "    }\n",
       "</style>\n",
       "<table border=\"1\" class=\"dataframe\">\n",
       "  <thead>\n",
       "    <tr style=\"text-align: right;\">\n",
       "      <th></th>\n",
       "      <th>body_id</th>\n",
       "      <th>created</th>\n",
       "      <th>event_datetime</th>\n",
       "      <th>event_id</th>\n",
       "      <th>source_uri</th>\n",
       "      <th>video_uri</th>\n",
       "    </tr>\n",
       "  </thead>\n",
       "  <tbody>\n",
       "    <tr>\n",
       "      <th>0</th>\n",
       "      <td>6f38a688-2e96-4e33-841c-883738f9f03d</td>\n",
       "      <td>2019-04-21 23:58:04.832481</td>\n",
       "      <td>2017-06-27T00:00:00</td>\n",
       "      <td>0e3bd59c-3f07-452c-83cf-e9eebeb73af2</td>\n",
       "      <td>http://www.seattlechannel.org/mayor-and-counci...</td>\n",
       "      <td>http://video.seattle.gov:8080/media/council/ge...</td>\n",
       "    </tr>\n",
       "    <tr>\n",
       "      <th>1</th>\n",
       "      <td>ebf7278b-debd-4d19-b0fd-ab1bdeb0f595</td>\n",
       "      <td>2019-04-26 05:07:41.088262</td>\n",
       "      <td>2018-08-08T00:00:00</td>\n",
       "      <td>157aabee-5b7d-4821-9b5d-31f96457b67a</td>\n",
       "      <td>http://www.seattlechannel.org/mayor-and-counci...</td>\n",
       "      <td>http://video.seattle.gov:8080/media/council/fi...</td>\n",
       "    </tr>\n",
       "    <tr>\n",
       "      <th>2</th>\n",
       "      <td>f92ad6c2-3994-465e-bc8c-9abeb777ebd2</td>\n",
       "      <td>2019-04-26 15:06:34.285370</td>\n",
       "      <td>2012-06-11T00:00:00</td>\n",
       "      <td>1802e1eb-5225-4219-b2a9-c5336259ce76</td>\n",
       "      <td>http://www.seattlechannel.org/mayor-and-counci...</td>\n",
       "      <td>http://video.seattle.gov:8080/media/council/Tr...</td>\n",
       "    </tr>\n",
       "    <tr>\n",
       "      <th>3</th>\n",
       "      <td>44a794de-6e1d-43dd-ac9f-317924345bdb</td>\n",
       "      <td>2019-04-21 23:23:30.958242</td>\n",
       "      <td>2017-12-06T00:00:00</td>\n",
       "      <td>1ffb5920-3c23-4084-b287-cef74c9c56c8</td>\n",
       "      <td>http://www.seattlechannel.org/mayor-and-counci...</td>\n",
       "      <td>http://video.seattle.gov:8080/media/council/ed...</td>\n",
       "    </tr>\n",
       "    <tr>\n",
       "      <th>4</th>\n",
       "      <td>c28e1141-60f2-421d-9c17-e629b57e8890</td>\n",
       "      <td>2019-04-21 23:31:38.209946</td>\n",
       "      <td>2019-04-11T00:00:00</td>\n",
       "      <td>226d8033-666c-49aa-831d-37d04d693106</td>\n",
       "      <td>http://www.seattlechannel.org/mayor-and-counci...</td>\n",
       "      <td>http://video.seattle.gov:8080/media/council/li...</td>\n",
       "    </tr>\n",
       "  </tbody>\n",
       "</table>\n",
       "</div>"
      ],
      "text/plain": [
       "                                body_id                    created  \\\n",
       "0  6f38a688-2e96-4e33-841c-883738f9f03d 2019-04-21 23:58:04.832481   \n",
       "1  ebf7278b-debd-4d19-b0fd-ab1bdeb0f595 2019-04-26 05:07:41.088262   \n",
       "2  f92ad6c2-3994-465e-bc8c-9abeb777ebd2 2019-04-26 15:06:34.285370   \n",
       "3  44a794de-6e1d-43dd-ac9f-317924345bdb 2019-04-21 23:23:30.958242   \n",
       "4  c28e1141-60f2-421d-9c17-e629b57e8890 2019-04-21 23:31:38.209946   \n",
       "\n",
       "        event_datetime                              event_id  \\\n",
       "0  2017-06-27T00:00:00  0e3bd59c-3f07-452c-83cf-e9eebeb73af2   \n",
       "1  2018-08-08T00:00:00  157aabee-5b7d-4821-9b5d-31f96457b67a   \n",
       "2  2012-06-11T00:00:00  1802e1eb-5225-4219-b2a9-c5336259ce76   \n",
       "3  2017-12-06T00:00:00  1ffb5920-3c23-4084-b287-cef74c9c56c8   \n",
       "4  2019-04-11T00:00:00  226d8033-666c-49aa-831d-37d04d693106   \n",
       "\n",
       "                                          source_uri  \\\n",
       "0  http://www.seattlechannel.org/mayor-and-counci...   \n",
       "1  http://www.seattlechannel.org/mayor-and-counci...   \n",
       "2  http://www.seattlechannel.org/mayor-and-counci...   \n",
       "3  http://www.seattlechannel.org/mayor-and-counci...   \n",
       "4  http://www.seattlechannel.org/mayor-and-counci...   \n",
       "\n",
       "                                           video_uri  \n",
       "0  http://video.seattle.gov:8080/media/council/ge...  \n",
       "1  http://video.seattle.gov:8080/media/council/fi...  \n",
       "2  http://video.seattle.gov:8080/media/council/Tr...  \n",
       "3  http://video.seattle.gov:8080/media/council/ed...  \n",
       "4  http://video.seattle.gov:8080/media/council/li...  "
      ]
     },
     "execution_count": 5,
     "metadata": {},
     "output_type": "execute_result"
    }
   ],
   "source": [
    "events = pd.DataFrame(events)\n",
    "events.head()"
   ]
  },
  {
   "cell_type": "code",
   "execution_count": 6,
   "metadata": {},
   "outputs": [
    {
     "data": {
      "text/html": [
       "<div>\n",
       "<style scoped>\n",
       "    .dataframe tbody tr th:only-of-type {\n",
       "        vertical-align: middle;\n",
       "    }\n",
       "\n",
       "    .dataframe tbody tr th {\n",
       "        vertical-align: top;\n",
       "    }\n",
       "\n",
       "    .dataframe thead th {\n",
       "        text-align: right;\n",
       "    }\n",
       "</style>\n",
       "<table border=\"1\" class=\"dataframe\">\n",
       "  <thead>\n",
       "    <tr style=\"text-align: right;\">\n",
       "      <th></th>\n",
       "      <th>body_id</th>\n",
       "      <th>created</th>\n",
       "      <th>description</th>\n",
       "      <th>name</th>\n",
       "    </tr>\n",
       "  </thead>\n",
       "  <tbody>\n",
       "    <tr>\n",
       "      <th>0</th>\n",
       "      <td>02ed9fbe-0b45-4574-bd73-2d6c29fdc73f</td>\n",
       "      <td>2019-04-26 14:54:34.886772</td>\n",
       "      <td>None</td>\n",
       "      <td>Select Committee on Utility Strategic Planning</td>\n",
       "    </tr>\n",
       "    <tr>\n",
       "      <th>1</th>\n",
       "      <td>0b1ae9bd-53c3-4882-900c-fed1b59e2442</td>\n",
       "      <td>2019-04-26 08:28:42.919760</td>\n",
       "      <td>None</td>\n",
       "      <td>Gender Equity, Safe Communities, New Americans...</td>\n",
       "    </tr>\n",
       "    <tr>\n",
       "      <th>2</th>\n",
       "      <td>318d0a2a-93d1-417b-aa26-e37ad61b81e8</td>\n",
       "      <td>2019-04-21 23:24:47.435263</td>\n",
       "      <td>None</td>\n",
       "      <td>Finance and Culture Committee</td>\n",
       "    </tr>\n",
       "    <tr>\n",
       "      <th>3</th>\n",
       "      <td>44a794de-6e1d-43dd-ac9f-317924345bdb</td>\n",
       "      <td>2019-04-21 23:23:30.575342</td>\n",
       "      <td>None</td>\n",
       "      <td>Education, Equity, and Governance Committee</td>\n",
       "    </tr>\n",
       "    <tr>\n",
       "      <th>4</th>\n",
       "      <td>6f38a688-2e96-4e33-841c-883738f9f03d</td>\n",
       "      <td>2019-04-21 23:58:04.378827</td>\n",
       "      <td>None</td>\n",
       "      <td>Gender Equity, Safe Communities &amp; New Americans</td>\n",
       "    </tr>\n",
       "  </tbody>\n",
       "</table>\n",
       "</div>"
      ],
      "text/plain": [
       "                                body_id                    created  \\\n",
       "0  02ed9fbe-0b45-4574-bd73-2d6c29fdc73f 2019-04-26 14:54:34.886772   \n",
       "1  0b1ae9bd-53c3-4882-900c-fed1b59e2442 2019-04-26 08:28:42.919760   \n",
       "2  318d0a2a-93d1-417b-aa26-e37ad61b81e8 2019-04-21 23:24:47.435263   \n",
       "3  44a794de-6e1d-43dd-ac9f-317924345bdb 2019-04-21 23:23:30.575342   \n",
       "4  6f38a688-2e96-4e33-841c-883738f9f03d 2019-04-21 23:58:04.378827   \n",
       "\n",
       "  description                                               name  \n",
       "0        None     Select Committee on Utility Strategic Planning  \n",
       "1        None  Gender Equity, Safe Communities, New Americans...  \n",
       "2        None                      Finance and Culture Committee  \n",
       "3        None        Education, Equity, and Governance Committee  \n",
       "4        None    Gender Equity, Safe Communities & New Americans  "
      ]
     },
     "execution_count": 6,
     "metadata": {},
     "output_type": "execute_result"
    }
   ],
   "source": [
    "bodies = db.select_rows_as_list(\"body\")\n",
    "bodies = pd.DataFrame(bodies)\n",
    "bodies.head()"
   ]
  },
  {
   "cell_type": "code",
   "execution_count": 7,
   "metadata": {},
   "outputs": [
    {
     "data": {
      "text/html": [
       "<div>\n",
       "<style scoped>\n",
       "    .dataframe tbody tr th:only-of-type {\n",
       "        vertical-align: middle;\n",
       "    }\n",
       "\n",
       "    .dataframe tbody tr th {\n",
       "        vertical-align: top;\n",
       "    }\n",
       "\n",
       "    .dataframe thead th {\n",
       "        text-align: right;\n",
       "    }\n",
       "</style>\n",
       "<table border=\"1\" class=\"dataframe\">\n",
       "  <thead>\n",
       "    <tr style=\"text-align: right;\">\n",
       "      <th></th>\n",
       "      <th>body_id</th>\n",
       "      <th>created_event</th>\n",
       "      <th>event_datetime</th>\n",
       "      <th>event_id</th>\n",
       "      <th>source_uri</th>\n",
       "      <th>video_uri</th>\n",
       "      <th>created_body</th>\n",
       "      <th>description</th>\n",
       "      <th>name</th>\n",
       "    </tr>\n",
       "  </thead>\n",
       "  <tbody>\n",
       "    <tr>\n",
       "      <th>0</th>\n",
       "      <td>6f38a688-2e96-4e33-841c-883738f9f03d</td>\n",
       "      <td>2019-04-21 23:58:04.832481</td>\n",
       "      <td>2017-06-27T00:00:00</td>\n",
       "      <td>0e3bd59c-3f07-452c-83cf-e9eebeb73af2</td>\n",
       "      <td>http://www.seattlechannel.org/mayor-and-counci...</td>\n",
       "      <td>http://video.seattle.gov:8080/media/council/ge...</td>\n",
       "      <td>2019-04-21 23:58:04.378827</td>\n",
       "      <td>None</td>\n",
       "      <td>Gender Equity, Safe Communities &amp; New Americans</td>\n",
       "    </tr>\n",
       "    <tr>\n",
       "      <th>1</th>\n",
       "      <td>ebf7278b-debd-4d19-b0fd-ab1bdeb0f595</td>\n",
       "      <td>2019-04-26 05:07:41.088262</td>\n",
       "      <td>2018-08-08T00:00:00</td>\n",
       "      <td>157aabee-5b7d-4821-9b5d-31f96457b67a</td>\n",
       "      <td>http://www.seattlechannel.org/mayor-and-counci...</td>\n",
       "      <td>http://video.seattle.gov:8080/media/council/fi...</td>\n",
       "      <td>2019-04-26 05:07:40.696253</td>\n",
       "      <td>None</td>\n",
       "      <td>Finance &amp; Neighborhoods Committee</td>\n",
       "    </tr>\n",
       "    <tr>\n",
       "      <th>2</th>\n",
       "      <td>f92ad6c2-3994-465e-bc8c-9abeb777ebd2</td>\n",
       "      <td>2019-04-26 15:06:34.285370</td>\n",
       "      <td>2012-06-11T00:00:00</td>\n",
       "      <td>1802e1eb-5225-4219-b2a9-c5336259ce76</td>\n",
       "      <td>http://www.seattlechannel.org/mayor-and-counci...</td>\n",
       "      <td>http://video.seattle.gov:8080/media/council/Tr...</td>\n",
       "      <td>2019-04-26 15:06:34.021277</td>\n",
       "      <td>None</td>\n",
       "      <td>Seattle Transportation Benefit District Board</td>\n",
       "    </tr>\n",
       "    <tr>\n",
       "      <th>3</th>\n",
       "      <td>44a794de-6e1d-43dd-ac9f-317924345bdb</td>\n",
       "      <td>2019-04-21 23:23:30.958242</td>\n",
       "      <td>2017-12-06T00:00:00</td>\n",
       "      <td>1ffb5920-3c23-4084-b287-cef74c9c56c8</td>\n",
       "      <td>http://www.seattlechannel.org/mayor-and-counci...</td>\n",
       "      <td>http://video.seattle.gov:8080/media/council/ed...</td>\n",
       "      <td>2019-04-21 23:23:30.575342</td>\n",
       "      <td>None</td>\n",
       "      <td>Education, Equity, and Governance Committee</td>\n",
       "    </tr>\n",
       "    <tr>\n",
       "      <th>4</th>\n",
       "      <td>c28e1141-60f2-421d-9c17-e629b57e8890</td>\n",
       "      <td>2019-04-21 23:31:38.209946</td>\n",
       "      <td>2019-04-11T00:00:00</td>\n",
       "      <td>226d8033-666c-49aa-831d-37d04d693106</td>\n",
       "      <td>http://www.seattlechannel.org/mayor-and-counci...</td>\n",
       "      <td>http://video.seattle.gov:8080/media/council/li...</td>\n",
       "      <td>2019-04-21 23:31:37.572810</td>\n",
       "      <td>None</td>\n",
       "      <td>Select Committee on the Library Levy</td>\n",
       "    </tr>\n",
       "  </tbody>\n",
       "</table>\n",
       "</div>"
      ],
      "text/plain": [
       "                                body_id              created_event  \\\n",
       "0  6f38a688-2e96-4e33-841c-883738f9f03d 2019-04-21 23:58:04.832481   \n",
       "1  ebf7278b-debd-4d19-b0fd-ab1bdeb0f595 2019-04-26 05:07:41.088262   \n",
       "2  f92ad6c2-3994-465e-bc8c-9abeb777ebd2 2019-04-26 15:06:34.285370   \n",
       "3  44a794de-6e1d-43dd-ac9f-317924345bdb 2019-04-21 23:23:30.958242   \n",
       "4  c28e1141-60f2-421d-9c17-e629b57e8890 2019-04-21 23:31:38.209946   \n",
       "\n",
       "        event_datetime                              event_id  \\\n",
       "0  2017-06-27T00:00:00  0e3bd59c-3f07-452c-83cf-e9eebeb73af2   \n",
       "1  2018-08-08T00:00:00  157aabee-5b7d-4821-9b5d-31f96457b67a   \n",
       "2  2012-06-11T00:00:00  1802e1eb-5225-4219-b2a9-c5336259ce76   \n",
       "3  2017-12-06T00:00:00  1ffb5920-3c23-4084-b287-cef74c9c56c8   \n",
       "4  2019-04-11T00:00:00  226d8033-666c-49aa-831d-37d04d693106   \n",
       "\n",
       "                                          source_uri  \\\n",
       "0  http://www.seattlechannel.org/mayor-and-counci...   \n",
       "1  http://www.seattlechannel.org/mayor-and-counci...   \n",
       "2  http://www.seattlechannel.org/mayor-and-counci...   \n",
       "3  http://www.seattlechannel.org/mayor-and-counci...   \n",
       "4  http://www.seattlechannel.org/mayor-and-counci...   \n",
       "\n",
       "                                           video_uri  \\\n",
       "0  http://video.seattle.gov:8080/media/council/ge...   \n",
       "1  http://video.seattle.gov:8080/media/council/fi...   \n",
       "2  http://video.seattle.gov:8080/media/council/Tr...   \n",
       "3  http://video.seattle.gov:8080/media/council/ed...   \n",
       "4  http://video.seattle.gov:8080/media/council/li...   \n",
       "\n",
       "                created_body description  \\\n",
       "0 2019-04-21 23:58:04.378827        None   \n",
       "1 2019-04-26 05:07:40.696253        None   \n",
       "2 2019-04-26 15:06:34.021277        None   \n",
       "3 2019-04-21 23:23:30.575342        None   \n",
       "4 2019-04-21 23:31:37.572810        None   \n",
       "\n",
       "                                              name  \n",
       "0  Gender Equity, Safe Communities & New Americans  \n",
       "1                Finance & Neighborhoods Committee  \n",
       "2    Seattle Transportation Benefit District Board  \n",
       "3      Education, Equity, and Governance Committee  \n",
       "4             Select Committee on the Library Levy  "
      ]
     },
     "execution_count": 7,
     "metadata": {},
     "output_type": "execute_result"
    }
   ],
   "source": [
    "expanded_event_details = events.merge(bodies, left_on=\"body_id\", right_on=\"body_id\", suffixes=(\"_event\", \"_body\"))\n",
    "expanded_event_details.head()"
   ]
  },
  {
   "cell_type": "markdown",
   "metadata": {},
   "source": [
    "`left_on` refers to the column name in the dataframe calling the operation.\n",
    "In this case, the column to merge on is `body_id` in the events results.\n",
    "\n",
    "Similarly, `right_on` refers to the column name in the dataframe to be passed to the operation.\n",
    "In this case, the column to merge on is `id` in the bodies results.\n",
    "\n",
    "`suffixes` is a tuple to use for adding suffixes to any columns with the same name between the two dataframes.\n",
    "Commonly for CDP query results, these are columns such as `created`, which provide a `datetime` value for when that row was stored in the database.\n",
    "\n",
    "Please refer to `pandas.DataFrame.merge` documentation for more details.\n",
    "\n",
    "[reference](https://pandas.pydata.org/pandas-docs/stable/reference/api/pandas.DataFrame.merge.html#pandas.DataFrame.merge)"
   ]
  },
  {
   "cell_type": "markdown",
   "metadata": {},
   "source": [
    "### Filtering\n",
    "\n",
    "You may notice that the function: `select_rows_as_list` allows for additional parameters to be passed: `filters`, `order_by`, and `limit`. Unfortunately, at this time, `filters` is not available for the open access portions of the API. So while you can provide them to the function, they are not actually used. Because of this, you must do filtering on your end. Fortunately however, `pandas` works well for these types of operations.\n",
    "\n",
    "[stackoverflow](https://stackoverflow.com/questions/17071871/select-rows-from-a-dataframe-based-on-values-in-a-column-in-pandas)"
   ]
  },
  {
   "cell_type": "code",
   "execution_count": 8,
   "metadata": {},
   "outputs": [
    {
     "data": {
      "text/html": [
       "<div>\n",
       "<style scoped>\n",
       "    .dataframe tbody tr th:only-of-type {\n",
       "        vertical-align: middle;\n",
       "    }\n",
       "\n",
       "    .dataframe tbody tr th {\n",
       "        vertical-align: top;\n",
       "    }\n",
       "\n",
       "    .dataframe thead th {\n",
       "        text-align: right;\n",
       "    }\n",
       "</style>\n",
       "<table border=\"1\" class=\"dataframe\">\n",
       "  <thead>\n",
       "    <tr style=\"text-align: right;\">\n",
       "      <th></th>\n",
       "      <th>body_id</th>\n",
       "      <th>created_event</th>\n",
       "      <th>event_datetime</th>\n",
       "      <th>event_id</th>\n",
       "      <th>source_uri</th>\n",
       "      <th>video_uri</th>\n",
       "      <th>created_body</th>\n",
       "      <th>description</th>\n",
       "      <th>name</th>\n",
       "    </tr>\n",
       "  </thead>\n",
       "  <tbody>\n",
       "    <tr>\n",
       "      <th>0</th>\n",
       "      <td>6f38a688-2e96-4e33-841c-883738f9f03d</td>\n",
       "      <td>2019-04-21 23:58:04.832481</td>\n",
       "      <td>2017-06-27T00:00:00</td>\n",
       "      <td>0e3bd59c-3f07-452c-83cf-e9eebeb73af2</td>\n",
       "      <td>http://www.seattlechannel.org/mayor-and-counci...</td>\n",
       "      <td>http://video.seattle.gov:8080/media/council/ge...</td>\n",
       "      <td>2019-04-21 23:58:04.378827</td>\n",
       "      <td>None</td>\n",
       "      <td>Gender Equity, Safe Communities &amp; New Americans</td>\n",
       "    </tr>\n",
       "  </tbody>\n",
       "</table>\n",
       "</div>"
      ],
      "text/plain": [
       "                                body_id              created_event  \\\n",
       "0  6f38a688-2e96-4e33-841c-883738f9f03d 2019-04-21 23:58:04.832481   \n",
       "\n",
       "        event_datetime                              event_id  \\\n",
       "0  2017-06-27T00:00:00  0e3bd59c-3f07-452c-83cf-e9eebeb73af2   \n",
       "\n",
       "                                          source_uri  \\\n",
       "0  http://www.seattlechannel.org/mayor-and-counci...   \n",
       "\n",
       "                                           video_uri  \\\n",
       "0  http://video.seattle.gov:8080/media/council/ge...   \n",
       "\n",
       "                created_body description  \\\n",
       "0 2019-04-21 23:58:04.378827        None   \n",
       "\n",
       "                                              name  \n",
       "0  Gender Equity, Safe Communities & New Americans  "
      ]
     },
     "execution_count": 8,
     "metadata": {},
     "output_type": "execute_result"
    }
   ],
   "source": [
    "gender_eq = \"Gender Equity, Safe Communities & New Americans\"\n",
    "gender_eq_events = expanded_event_details.loc[expanded_event_details[\"name\"] == gender_eq]\n",
    "gender_eq_events"
   ]
  }
 ],
 "metadata": {
  "kernelspec": {
   "display_name": "Python 3",
   "language": "python",
   "name": "python3"
  },
  "language_info": {
   "codemirror_mode": {
    "name": "ipython",
    "version": 3
   },
   "file_extension": ".py",
   "mimetype": "text/x-python",
   "name": "python",
   "nbconvert_exporter": "python",
   "pygments_lexer": "ipython3",
   "version": "3.7.3"
  }
 },
 "nbformat": 4,
 "nbformat_minor": 2
}
